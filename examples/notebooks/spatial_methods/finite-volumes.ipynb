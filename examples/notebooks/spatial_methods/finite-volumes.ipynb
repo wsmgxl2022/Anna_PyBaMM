{
 "cells": [
  {
   "cell_type": "markdown",
   "metadata": {},
   "source": [
    "# Finite Volume Discretisation"
   ]
  },
  {
   "cell_type": "markdown",
   "metadata": {},
   "source": [
    "In this notebook, we explain the discretisation process that converts an expression tree, representing a model, to a linear algebra tree that can be evaluated by the solvers. \n",
    "\n",
    "We use Finite Volumes as an example of a spatial method, since it is the default spatial method for most PyBaMM models. This is a good spatial method for battery problems as it is conservative: for lithium-ion battery models, we can be sure that the total amount of lithium in the system is constant. For more details on the Finite Volume method, see [Randall Leveque's book](https://books.google.co.uk/books/about/Finite_Volume_Methods_for_Hyperbolic_Pro.html?id=QazcnD7GUoUC&printsec=frontcover&source=kp_read_button&redir_esc=y#v=onepage&q&f=false).\n",
    "\n",
    "This notebook is structured as follows:\n",
    "\n",
    "1. **Setting up a discretisation**. Overview of the parameters that are passed to the discretisation\n",
    "2. **Discretisations and spatial methods**. Operations that are common to most spatial methods:\n",
    "    - Discretising a spatial variable (e.g. $x$)\n",
    "    - Discretising a variable (e.g. concentration)\n",
    "3. **Example: Finite Volume operators**. Finite Volume implementation of some useful operators: \n",
    "    - Gradient operator\n",
    "    - Divergence operator\n",
    "    - Integral operator\n",
    "4. **Example: Discretising a simple model**. Setting up and solving a simple model, using Finite Volumes as the spatial method\n",
    "\n",
    "To find out how to implement a new spatial method, see the [tutorial](https://pybamm.readthedocs.io/en/latest/tutorials/add-spatial-method.html) in the API docs."
   ]
  },
  {
   "cell_type": "markdown",
   "metadata": {},
   "source": [
    "## Setting up a Discretisation"
   ]
  },
  {
   "cell_type": "markdown",
   "metadata": {},
   "source": [
    "We first import `pybamm` and some useful other modules, and change our working directory to the root of the `PyBaMM` folder:"
   ]
  },
  {
   "cell_type": "code",
   "execution_count": 1,
   "metadata": {
    "tags": []
   },
   "outputs": [
    {
     "name": "stdout",
     "output_type": "stream",
     "text": [
      "\u001b[33mWARNING: You are using pip version 20.2.4; however, version 21.0.1 is available.\n",
      "You should consider upgrading via the '/Users/vsulzer/Documents/Energy_storage/PyBaMM/.tox/dev/bin/python -m pip install --upgrade pip' command.\u001b[0m\n",
      "Note: you may need to restart the kernel to use updated packages.\n"
     ]
    }
   ],
   "source": [
    "%pip install pybamm -q    # install PyBaMM if it is not installed\n",
    "import pybamm\n",
    "import numpy as np\n",
    "import os\n",
    "import matplotlib.pyplot as plt\n",
    "from pprint import pprint\n",
    "os.chdir(pybamm.__path__[0]+'/..')"
   ]
  },
  {
   "cell_type": "markdown",
   "metadata": {},
   "source": [
    "To set up a discretisation, we must create a geometry, mesh this geometry, and then create the discretisation with the appropriate spatial method(s). The easiest way to create a geometry is to the inbuilt battery geometry:"
   ]
  },
  {
   "cell_type": "code",
   "execution_count": 2,
   "metadata": {},
   "outputs": [],
   "source": [
    "parameter_values = pybamm.ParameterValues(\n",
    "    values={\n",
    "        \"Negative electrode thickness [m]\": 0.3,\n",
    "        \"Separator thickness [m]\": 0.2,\n",
    "        \"Positive electrode thickness [m]\": 0.3,\n",
    "    }\n",
    ")\n",
    "\n",
    "geometry = pybamm.battery_geometry()\n",
    "parameter_values.process_geometry(geometry)"
   ]
  },
  {
   "cell_type": "markdown",
   "metadata": {},
   "source": [
    "We then use this geometry to create a mesh, which for this example consists of uniform 1D submeshes"
   ]
  },
  {
   "cell_type": "code",
   "execution_count": 3,
   "metadata": {},
   "outputs": [],
   "source": [
    "submesh_types = {\n",
    "    \"negative electrode\": pybamm.Uniform1DSubMesh,\n",
    "    \"separator\": pybamm.Uniform1DSubMesh,\n",
    "    \"positive electrode\": pybamm.Uniform1DSubMesh,\n",
    "    \"negative particle\": pybamm.Uniform1DSubMesh,\n",
    "    \"positive particle\": pybamm.Uniform1DSubMesh,\n",
    "    \"current collector\": pybamm.SubMesh0D,\n",
    "}\n",
    "\n",
    "var = pybamm.standard_spatial_vars\n",
    "var_pts = {var.x_n: 15, var.x_s: 10, var.x_p: 15, var.r_n: 10, var.r_p: 10}\n",
    "mesh = pybamm.Mesh(geometry, submesh_types, var_pts)"
   ]
  },
  {
   "cell_type": "markdown",
   "metadata": {},
   "source": [
    "Finally, we can use the mesh to create a discretisation, using Finite Volumes as the spatial method for this example"
   ]
  },
  {
   "cell_type": "code",
   "execution_count": 4,
   "metadata": {},
   "outputs": [],
   "source": [
    "spatial_methods = {\n",
    "    \"macroscale\": pybamm.FiniteVolume(),\n",
    "    \"negative particle\": pybamm.FiniteVolume(),\n",
    "    \"positive particle\": pybamm.FiniteVolume(),\n",
    "}\n",
    "disc = pybamm.Discretisation(mesh, spatial_methods)"
   ]
  },
  {
   "cell_type": "markdown",
   "metadata": {},
   "source": [
    "## Discretisations and Spatial Methods"
   ]
  },
  {
   "cell_type": "markdown",
   "metadata": {},
   "source": [
    "### Spatial Variables"
   ]
  },
  {
   "cell_type": "markdown",
   "metadata": {},
   "source": [
    "Spatial variables, such as $x$ and $r$, are converted to `pybamm.Vector` nodes"
   ]
  },
  {
   "cell_type": "code",
   "execution_count": 5,
   "metadata": {
    "tags": []
   },
   "outputs": [
    {
     "name": "stdout",
     "output_type": "stream",
     "text": [
      "x_disc is a <class 'pybamm.expression_tree.vector.Vector'>\n",
      "r_disc is a <class 'pybamm.expression_tree.vector.Vector'>\n"
     ]
    },
    {
     "data": {
      "image/png": "[encoded data removed]",
      "text/plain": [
       "<Figure size 936x288 with 2 Axes>"
      ]
     },
     "metadata": {
      "needs_background": "light"
     },
     "output_type": "display_data"
    }
   ],
   "source": [
    "# Set up \n",
    "macroscale = [\"negative electrode\", \"separator\", \"positive electrode\"]\n",
    "x_var = pybamm.SpatialVariable(\"x\", domain=macroscale)\n",
    "r_var = pybamm.SpatialVariable(\"r\", domain=[\"negative particle\"])\n",
    "\n",
    "# Discretise\n",
    "x_disc = disc.process_symbol(x_var)\n",
    "r_disc = disc.process_symbol(r_var)\n",
    "print(\"x_disc is a {}\".format(type(x_disc)))\n",
    "print(\"r_disc is a {}\".format(type(r_disc)))\n",
    "\n",
    "# Evaluate\n",
    "x = x_disc.evaluate()\n",
    "r = r_disc.evaluate()\n",
    "\n",
    "f, (ax1, ax2) = plt.subplots(1, 2, figsize=(13,4))\n",
    "\n",
    "ax1.plot(x, \"*\")\n",
    "ax1.set_xlabel(\"index\")\n",
    "ax1.set_ylabel(r\"$x$\")\n",
    "\n",
    "ax2.plot(r, \"*\")\n",
    "ax2.set_xlabel(\"index\")\n",
    "ax2.set_ylabel(r\"$r$\")\n",
    "\n",
    "plt.tight_layout()\n",
    "plt.show()"
   ]
  },
  {
   "cell_type": "markdown",
   "metadata": {},
   "source": [
    "We define `y_macroscale`, `y_microscale` and `y_scalar` for evaluation and visualisation of results below"
   ]
  },
  {
   "cell_type": "code",
   "execution_count": 6,
   "metadata": {},
   "outputs": [],
   "source": [
    "y_macroscale = x ** 3 / 3\n",
    "y_microscale = np.cos(r)\n",
    "y_scalar = np.array([[5]])\n",
    "\n",
    "y = np.concatenate([y_macroscale, y_microscale, y_scalar])"
   ]
  },
  {
   "cell_type": "markdown",
   "metadata": {},
   "source": [
    "### Variables"
   ]
  },
  {
   "cell_type": "markdown",
   "metadata": {},
   "source": [
    "In this notebook, we will work with three variables `u`, `v`, `w`."
   ]
  },
  {
   "cell_type": "code",
   "execution_count": 7,
   "metadata": {},
   "outputs": [],
   "source": [
    "u = pybamm.Variable(\"u\", domain=macroscale) # u is a variable in the macroscale (e.g. electrolyte potential)\n",
    "v = pybamm.Variable(\"v\", domain=[\"negative particle\"]) # v is a variable in the negative particle (e.g. particle concentration)\n",
    "w = pybamm.Variable(\"w\") # w is a variable without a domain (e.g. time, average concentration)\n",
    "\n",
    "variables = [u,v,w]"
   ]
  },
  {
   "cell_type": "markdown",
   "metadata": {},
   "source": [
    "Before discretising, trying to evaluate the variables raises a `NotImplementedError`:"
   ]
  },
  {
   "cell_type": "code",
   "execution_count": 8,
   "metadata": {
    "tags": []
   },
   "outputs": [
    {
     "name": "stdout",
     "output_type": "stream",
     "text": [
      "method self.evaluate() not implemented\n",
      "               for symbol u of type <class 'pybamm.expression_tree.variable.Variable'>\n"
     ]
    }
   ],
   "source": [
    "try:\n",
    "    u.evaluate()\n",
    "except NotImplementedError as e: \n",
    "    print(e)"
   ]
  },
  {
   "cell_type": "markdown",
   "metadata": {},
   "source": [
    "For any spatial method, a `pybamm.Variable` gets converted to a `pybamm.StateVector` which, when evaluated, takes the appropriate slice of the input vector `y`. "
   ]
  },
  {
   "cell_type": "code",
   "execution_count": 9,
   "metadata": {
    "tags": []
   },
   "outputs": [
    {
     "name": "stdout",
     "output_type": "stream",
     "text": [
      "Discretised u is the StateVector y[0:40]\n",
      "Discretised v is the StateVector y[40:50]\n",
      "Discretised w is the StateVector y[50:51]\n"
     ]
    }
   ],
   "source": [
    "# Pass the list of variables to the discretisation to calculate the slices to be used (order matters here!)\n",
    "disc.set_variable_slices(variables)\n",
    "\n",
    "# Discretise the variables\n",
    "u_disc = disc.process_symbol(u)\n",
    "v_disc = disc.process_symbol(v)\n",
    "w_disc = disc.process_symbol(w)\n",
    "\n",
    "# Print the outcome \n",
    "print(\"Discretised u is the StateVector {}\".format(u_disc))\n",
    "print(\"Discretised v is the StateVector {}\".format(v_disc))\n",
    "print(\"Discretised w is the StateVector {}\".format(w_disc))"
   ]
  },
  {
   "cell_type": "markdown",
   "metadata": {},
   "source": [
    "Since the variables have been passed to `disc` in the order `[u,v,w]`, they each read the appropriate part of `y` when evaluated:"
   ]
  },
  {
   "cell_type": "code",
   "execution_count": 10,
   "metadata": {},
   "outputs": [
    {
     "data": {
      "image/png": "[encoded data removed]",
      "text/plain": [
       "<Figure size 936x288 with 2 Axes>"
      ]
     },
     "metadata": {
      "needs_background": "light"
     },
     "output_type": "display_data"
    }
   ],
   "source": [
    "x_fine = np.linspace(x[0], x[-1], 1000)\n",
    "r_fine = np.linspace(r[0], r[-1], 1000)\n",
    "\n",
    "fig, (ax1, ax2) = plt.subplots(1, 2, figsize=(13,4))\n",
    "ax1.plot(x_fine, x_fine**3/3, x, u_disc.evaluate(y=y), \"o\")\n",
    "ax1.set_xlabel(\"x\")\n",
    "ax1.legend([\"x^3/3\", \"u\"], loc=\"best\")\n",
    "\n",
    "ax2.plot(r_fine, np.cos(r_fine), r, v_disc.evaluate(y=y), \"o\")\n",
    "ax2.set_xlabel(\"r\")\n",
    "ax2.legend([\"cos(r)\", \"v\"], loc=\"best\")\n",
    "\n",
    "plt.tight_layout()\n",
    "plt.show()"
   ]
  },
  {
   "cell_type": "code",
   "execution_count": 11,
   "metadata": {
    "tags": []
   },
   "outputs": [
    {
     "name": "stdout",
     "output_type": "stream",
     "text": [
      "w = [[5.]]\n"
     ]
    }
   ],
   "source": [
    "print(\"w = {}\".format(w_disc.evaluate(y=y)))"
   ]
  },
  {
   "cell_type": "markdown",
   "metadata": {},
   "source": [
    "## Finite Volume Operators"
   ]
  },
  {
   "cell_type": "markdown",
   "metadata": {},
   "source": [
    "### Gradient operator\n",
    "\n",
    "The gradient operator is converted to a Matrix-StateVector multiplication. In 1D, the gradient operator is equivalent to $\\partial/\\partial x$ on the macroscale and $\\partial/\\partial r$ on the microscale. In Finite Volumes, we take the gradient of an object on nodes (shape (n,)), which returns an object on the edges (shape (n-1,)). "
   ]
  },
  {
   "cell_type": "code",
   "execution_count": 12,
   "metadata": {
    "tags": []
   },
   "outputs": [
    {
     "name": "stdout",
     "output_type": "stream",
     "text": [
      "@\n",
      "├── Sparse Matrix (39, 40)\n",
      "└── y[0:40]\n"
     ]
    }
   ],
   "source": [
    "grad_u = pybamm.grad(u)\n",
    "grad_u_disc = disc.process_symbol(grad_u)\n",
    "grad_u_disc.render()"
   ]
  },
  {
   "cell_type": "markdown",
   "metadata": {},
   "source": [
    "The Matrix in `grad_u_disc` is the standard `[-1,1]` sparse matrix, divided by the step sizes `dx`:"
   ]
  },
  {
   "cell_type": "code",
   "execution_count": 13,
   "metadata": {
    "tags": []
   },
   "outputs": [
    {
     "name": "stdout",
     "output_type": "stream",
     "text": [
      "gradient matrix is:\n",
      "\n",
      "1/dx *\n",
      "[[-1.  1.  0. ...  0.  0.  0.]\n",
      " [ 0. -1.  1. ...  0.  0.  0.]\n",
      " [ 0.  0. -1. ...  0.  0.  0.]\n",
      " ...\n",
      " [ 0.  0.  0. ...  1.  0.  0.]\n",
      " [ 0.  0.  0. ... -1.  1.  0.]\n",
      " [ 0.  0.  0. ...  0. -1.  1.]]\n"
     ]
    }
   ],
   "source": [
    "macro_mesh = mesh.combine_submeshes(*macroscale)\n",
    "print(\"gradient matrix is:\\n\")\n",
    "print(\"1/dx *\\n{}\".format(macro_mesh.d_nodes[:,np.newaxis] * grad_u_disc.children[0].entries.toarray()))"
   ]
  },
  {
   "cell_type": "markdown",
   "metadata": {},
   "source": [
    "When evaluated with `y_macroscale=x**3/3`, `grad_u_disc` is equal to `x**2` as expected:"
   ]
  },
  {
   "cell_type": "code",
   "execution_count": 14,
   "metadata": {},
   "outputs": [
    {
     "data": {
      "image/png": "[encoded data removed]",
      "text/plain": [
       "<Figure size 432x288 with 1 Axes>"
      ]
     },
     "metadata": {
      "needs_background": "light"
     },
     "output_type": "display_data"
    }
   ],
   "source": [
    "x_edge = macro_mesh.edges[1:-1] # note that grad_u_disc is evaluated on the node edges\n",
    "\n",
    "fig, ax = plt.subplots()\n",
    "ax.plot(x_fine, x_fine**2, x_edge, grad_u_disc.evaluate(y=y), \"o\")\n",
    "ax.set_xlabel(\"x\")\n",
    "legend = ax.legend([\"x^2\", \"grad(u).evaluate(y=x**3/3)\"], loc=\"best\")\n",
    "\n",
    "plt.show()"
   ]
  },
  {
   "cell_type": "markdown",
   "metadata": {},
   "source": [
    "Similary, we can create, discretise and evaluate the gradient of `v`, which is a variable in the negative particles. Note that the syntax for doing this is identical: we do not need to explicitly specify that we want the gradient in `r`, since this is inferred from the `domain` of `v`."
   ]
  },
  {
   "cell_type": "code",
   "execution_count": 15,
   "metadata": {},
   "outputs": [
    {
     "data": {
      "text/plain": [
       "['negative particle']"
      ]
     },
     "execution_count": 15,
     "metadata": {},
     "output_type": "execute_result"
    }
   ],
   "source": [
    "v.domain"
   ]
  },
  {
   "cell_type": "code",
   "execution_count": 16,
   "metadata": {
    "tags": []
   },
   "outputs": [
    {
     "name": "stdout",
     "output_type": "stream",
     "text": [
      "grad(v) tree is:\n",
      "\n",
      "@\n",
      "├── Sparse Matrix (9, 10)\n",
      "└── y[40:50]\n",
      "\n",
      " gradient matrix is:\n",
      "\n",
      "1/dr *\n",
      "[[-1.  1.  0.  0.  0.  0.  0.  0.  0.  0.]\n",
      " [ 0. -1.  1.  0.  0.  0.  0.  0.  0.  0.]\n",
      " [ 0.  0. -1.  1.  0.  0.  0.  0.  0.  0.]\n",
      " [ 0.  0.  0. -1.  1.  0.  0.  0.  0.  0.]\n",
      " [ 0.  0.  0.  0. -1.  1.  0.  0.  0.  0.]\n",
      " [ 0.  0.  0.  0.  0. -1.  1.  0.  0.  0.]\n",
      " [ 0.  0.  0.  0.  0.  0. -1.  1.  0.  0.]\n",
      " [ 0.  0.  0.  0.  0.  0.  0. -1.  1.  0.]\n",
      " [ 0.  0.  0.  0.  0.  0.  0.  0. -1.  1.]]\n"
     ]
    },
    {
     "data": {
      "image/png": "[encoded data removed]",
      "text/plain": [
       "<Figure size 432x288 with 1 Axes>"
      ]
     },
     "metadata": {
      "needs_background": "light"
     },
     "output_type": "display_data"
    }
   ],
   "source": [
    "grad_v = pybamm.grad(v)\n",
    "grad_v_disc = disc.process_symbol(grad_v)\n",
    "print(\"grad(v) tree is:\\n\")\n",
    "grad_v_disc.render()\n",
    "\n",
    "micro_mesh = mesh[\"negative particle\"]\n",
    "print(\"\\n gradient matrix is:\\n\")\n",
    "print(\"1/dr *\\n{}\".format(micro_mesh.d_nodes[:,np.newaxis] * grad_v_disc.children[0].entries.toarray()))\n",
    "\n",
    "r_edge = micro_mesh.edges[1:-1] # note that grad_u_disc is evaluated on the node edges\n",
    "\n",
    "fig, ax = plt.subplots()\n",
    "ax.plot(r_fine, -np.sin(r_fine), r_edge, grad_v_disc.evaluate(y=y), \"o\")\n",
    "ax.set_xlabel(\"x\")\n",
    "legend = ax.legend([\"-sin(r)\", \"grad(v).evaluate(y=cos(r))\"], loc=\"best\")\n",
    "\n",
    "plt.show()"
   ]
  },
  {
   "cell_type": "markdown",
   "metadata": {},
   "source": [
    "#### Boundary conditions"
   ]
  },
  {
   "cell_type": "markdown",
   "metadata": {},
   "source": [
    "If the discretisation is provided with boundary conditions, appropriate ghost nodes are concatenated onto the variable, and a larger gradient matrix is used. The ghost nodes are chosen based on the value of the first/last node in the variable and the boundary condition.\n",
    "For a Dirichlet boundary condition $u=a$ on the left-hand boundary, we set the value of the left ghost node to be equal to\n",
    "$$2*a-u[0],$$\n",
    "where $u[0]$ is the value of $u$ in the left-most cell in the domain. Similarly, for a Dirichlet condition $u=b$ on the right-hand boundary, we set the right ghost node to be\n",
    "$$2*b-u[-1].$$\n",
    "Note also that the size of the gradient matrix is now (41,42) instead of (39,40), to account for the presence of boundary conditions in the State Vector."
   ]
  },
  {
   "cell_type": "code",
   "execution_count": 17,
   "metadata": {
    "tags": []
   },
   "outputs": [
    {
     "name": "stdout",
     "output_type": "stream",
     "text": [
      "The gradient object is:\n",
      "+\n",
      "├── @\n",
      "│   ├── Sparse Matrix (41, 40)\n",
      "│   └── y[0:40]\n",
      "└── Column vector of length 41\n",
      "The value of u on the left-hand boundary is [-40.]\n",
      "The value of u on the right-hand boundary is [80.]\n"
     ]
    }
   ],
   "source": [
    "disc.bcs = {u: {\"left\": (pybamm.Scalar(1), \"Dirichlet\"), \"right\": (pybamm.Scalar(2), \"Dirichlet\")}}\n",
    "grad_u_disc = disc.process_symbol(grad_u)\n",
    "print(\"The gradient object is:\")\n",
    "(grad_u_disc.render())\n",
    "u_eval = grad_u_disc.children[1].evaluate(y=y)\n",
    "print(\"The value of u on the left-hand boundary is {}\".format((u_eval[0] + u_eval[1]) / 2))\n",
    "print(\"The value of u on the right-hand boundary is {}\".format((u_eval[-2] + u_eval[-1]) / 2))"
   ]
  },
  {
   "cell_type": "markdown",
   "metadata": {},
   "source": [
    "For a Neumann boundary condition $\\partial u/\\partial x=c$ on the left-hand boundary, we set the value of the left ghost node to be\n",
    "$$u[0] - c * dx,$$\n",
    "where $dx$ is the step size at the left-hand boundary. For a Neumann boundary condition $\\partial u/\\partial x=d$ on the right-hand boundary, we set the value of the right ghost node to be\n",
    "$$u[-1] + d * dx.$$"
   ]
  },
  {
   "cell_type": "code",
   "execution_count": 18,
   "metadata": {
    "tags": []
   },
   "outputs": [
    {
     "name": "stdout",
     "output_type": "stream",
     "text": [
      "The gradient object is:\n",
      "+\n",
      "├── @\n",
      "│   ├── Sparse Matrix (41, 40)\n",
      "│   └── y[0:40]\n",
      "└── Column vector of length 41\n",
      "The gradient on the left-hand boundary is [3.]\n",
      "The gradient of u on the right-hand boundary is [4.]\n"
     ]
    }
   ],
   "source": [
    "disc.bcs = {u: {\"left\": (pybamm.Scalar(3), \"Neumann\"), \"right\": (pybamm.Scalar(4), \"Neumann\")}}\n",
    "grad_u_disc = disc.process_symbol(grad_u)\n",
    "print(\"The gradient object is:\")\n",
    "(grad_u_disc.render())\n",
    "grad_u_eval = grad_u_disc.evaluate(y=y)\n",
    "print(\"The gradient on the left-hand boundary is {}\".format(grad_u_eval[0]))\n",
    "print(\"The gradient of u on the right-hand boundary is {}\".format(grad_u_eval[-1]))"
   ]
  },
  {
   "cell_type": "markdown",
   "metadata": {},
   "source": [
    "We can mix the types of the boundary conditions:"
   ]
  },
  {
   "cell_type": "code",
   "execution_count": 19,
   "metadata": {
    "tags": []
   },
   "outputs": [
    {
     "name": "stdout",
     "output_type": "stream",
     "text": [
      "The gradient object is:\n",
      "+\n",
      "├── +\n",
      "│   ├── @\n",
      "│   │   ├── Sparse Matrix (41, 40)\n",
      "│   │   └── y[0:40]\n",
      "│   └── Column vector of length 41\n",
      "└── Column vector of length 41\n",
      "The value of u on the left-hand boundary is [0.]\n",
      "The gradient on the right-hand boundary is [6.]\n"
     ]
    }
   ],
   "source": [
    "disc.bcs = {u: {\"left\": (pybamm.Scalar(5), \"Dirichlet\"), \"right\": (pybamm.Scalar(6), \"Neumann\")}}\n",
    "grad_u_disc = disc.process_symbol(grad_u)\n",
    "print(\"The gradient object is:\")\n",
    "(grad_u_disc.render())\n",
    "grad_u_eval = grad_u_disc.evaluate(y=y)\n",
    "u_eval = grad_u_disc.children[1].evaluate(y=y)\n",
    "print(\"The value of u on the left-hand boundary is {}\".format((u_eval[0] + u_eval[1])/2))\n",
    "print(\"The gradient on the right-hand boundary is {}\".format(grad_u_eval[-1]))"
   ]
  },
  {
   "cell_type": "markdown",
   "metadata": {},
   "source": [
    "Robin boundary conditions can be implemented by specifying a Neumann condition where the flux depends on the variable."
   ]
  },
  {
   "cell_type": "markdown",
   "metadata": {},
   "source": [
    "### Divergence operator"
   ]
  },
  {
   "cell_type": "markdown",
   "metadata": {},
   "source": [
    "Before computing the Divergence operator, we set up Neumann boundary conditions. The behaviour with Dirichlet boundary conditions is very similar."
   ]
  },
  {
   "cell_type": "code",
   "execution_count": 20,
   "metadata": {},
   "outputs": [],
   "source": [
    "disc.bcs = {u: {\"left\": (pybamm.Scalar(-1), \"Neumann\"), \"right\": (pybamm.Scalar(1), \"Neumann\")}}"
   ]
  },
  {
   "cell_type": "markdown",
   "metadata": {},
   "source": [
    "Now we can process `div(grad(u))`, converting it to a Matrix-Vector multiplication, plus a vector for the boundary conditions. Since we have Neumann boundary conditions, the divergence of an object of size (n+1,) has size (n,), and so div(grad) of an object of size (n,) has size (n,)"
   ]
  },
  {
   "cell_type": "code",
   "execution_count": 21,
   "metadata": {
    "tags": []
   },
   "outputs": [
    {
     "name": "stdout",
     "output_type": "stream",
     "text": [
      "+\n",
      "├── @\n",
      "│   ├── Sparse Matrix (40, 40)\n",
      "│   └── y[0:40]\n",
      "└── Column vector of length 40\n"
     ]
    }
   ],
   "source": [
    "div_grad_u = pybamm.div(grad_u)\n",
    "div_grad_u_disc = disc.process_symbol(div_grad_u)\n",
    "div_grad_u_disc.render()"
   ]
  },
  {
   "cell_type": "markdown",
   "metadata": {},
   "source": [
    "The div(grad) matrix is automatically simplified to the well-known `[1,-2,1]` matrix (divided by the square of the distance between the edges), except in the first and last rows for boundary conditions"
   ]
  },
  {
   "cell_type": "code",
   "execution_count": 22,
   "metadata": {
    "tags": []
   },
   "outputs": [
    {
     "name": "stdout",
     "output_type": "stream",
     "text": [
      "div(grad) matrix is:\n",
      "\n",
      "1/dx^2 * \n",
      "[[-1.  1.  0. ...  0.  0.  0.]\n",
      " [ 1. -2.  1. ...  0.  0.  0.]\n",
      " [ 0.  1. -2. ...  0.  0.  0.]\n",
      " ...\n",
      " [ 0.  0.  0. ... -2.  1.  0.]\n",
      " [ 0.  0.  0. ...  1. -2.  1.]\n",
      " [ 0.  0.  0. ...  0.  1. -1.]]\n"
     ]
    }
   ],
   "source": [
    "print(\"div(grad) matrix is:\\n\")\n",
    "print(\"1/dx^2 * \\n{}\".format(\n",
    "    macro_mesh.d_edges[:,np.newaxis]**2 * div_grad_u_disc.left.left.entries.toarray()\n",
    "))"
   ]
  },
  {
   "cell_type": "markdown",
   "metadata": {},
   "source": [
    "### Integral operator"
   ]
  },
  {
   "cell_type": "markdown",
   "metadata": {},
   "source": [
    "Finally, we can define an integral operator, which integrates the variable across the domain specified by the integration variable."
   ]
  },
  {
   "cell_type": "code",
   "execution_count": 23,
   "metadata": {
    "tags": []
   },
   "outputs": [
    {
     "name": "stdout",
     "output_type": "stream",
     "text": [
      "int(u) = [[0.08330729]] is approximately equal to 1/12, 0.08333333333333333\n",
      "int(v/r^2) = [[10.57864347]] is approximately equal to 4 * pi * sin(1), 10.574236256325824\n"
     ]
    }
   ],
   "source": [
    "int_u = pybamm.Integral(u, x_var)\n",
    "int_u_disc = disc.process_symbol(int_u)\n",
    "print(\"int(u) = {} is approximately equal to 1/12, {}\".format(int_u_disc.evaluate(y=y), 1/12))\n",
    "\n",
    "# We divide v by r to evaluate the integral more easily\n",
    "int_v_over_r2 = pybamm.Integral(v/r_var**2, r_var)\n",
    "int_v_over_r2_disc = disc.process_symbol(int_v_over_r2)\n",
    "print(\"int(v/r^2) = {} is approximately equal to 4 * pi * sin(1), {}\".format(\n",
    "    int_v_over_r2_disc.evaluate(y=y), 4 * np.pi * np.sin(1))\n",
    ")"
   ]
  },
  {
   "cell_type": "markdown",
   "metadata": {},
   "source": [
    "The integral operators are also Matrix-Vector multiplications"
   ]
  },
  {
   "cell_type": "code",
   "execution_count": 24,
   "metadata": {
    "tags": []
   },
   "outputs": [
    {
     "name": "stdout",
     "output_type": "stream",
     "text": [
      "int(u):\n",
      "\n",
      "@\n",
      "├── Sparse Matrix (1, 40)\n",
      "└── y[0:40]\n",
      "\n",
      "int(v):\n",
      "\n",
      "@\n",
      "├── Sparse Matrix (1, 10)\n",
      "└── y[40:50]\n"
     ]
    }
   ],
   "source": [
    "print(\"int(u):\\n\")\n",
    "int_u_disc.render()\n",
    "print(\"\\nint(v):\\n\")\n",
    "int_v_over_r2_disc.render()"
   ]
  },
  {
   "cell_type": "code",
   "execution_count": 25,
   "metadata": {},
   "outputs": [
    {
     "data": {
      "text/plain": [
       "matrix([[1., 1., 1., 1., 1., 1., 1., 1., 1., 1., 1., 1., 1., 1., 1., 1.,\n",
       "         1., 1., 1., 1., 1., 1., 1., 1., 1., 1., 1., 1., 1., 1., 1., 1.,\n",
       "         1., 1., 1., 1., 1., 1., 1., 1.]])"
      ]
     },
     "execution_count": 25,
     "metadata": {},
     "output_type": "execute_result"
    }
   ],
   "source": [
    "int_u_disc.children[0].evaluate() / macro_mesh.d_edges"
   ]
  },
  {
   "cell_type": "code",
   "execution_count": 26,
   "metadata": {},
   "outputs": [
    {
     "data": {
      "text/plain": [
       "matrix([[12.56637061, 12.56637061, 12.56637061, 12.56637061, 12.56637061,\n",
       "         12.56637061, 12.56637061, 12.56637061, 12.56637061, 12.56637061]])"
      ]
     },
     "execution_count": 26,
     "metadata": {},
     "output_type": "execute_result"
    }
   ],
   "source": [
    "int_v_over_r2_disc.children[0].evaluate() / micro_mesh.d_edges"
   ]
  },
  {
   "cell_type": "markdown",
   "metadata": {},
   "source": [
    "## Discretising a model"
   ]
  },
  {
   "cell_type": "markdown",
   "metadata": {},
   "source": [
    "We can now discretise a whole model. We create, and discretise, a simple model for the concentration in the electrolyte and the concentration in the particles, and discretise it with a single command:\n",
    "```\n",
    "disc.process_model(model)\n",
    "```"
   ]
  },
  {
   "cell_type": "code",
   "execution_count": 27,
   "metadata": {},
   "outputs": [],
   "source": [
    "model = pybamm.BaseModel()\n",
    "\n",
    "c_e = pybamm.Variable(\"electrolyte concentration\", domain=macroscale)\n",
    "N_e = pybamm.grad(c_e)\n",
    "c_s = pybamm.Variable(\"particle concentration\", domain=[\"negative particle\"])\n",
    "N_s = pybamm.grad(c_s)\n",
    "model.rhs = {c_e: pybamm.div(N_e) - 5, c_s: pybamm.div(N_s)}\n",
    "model.boundary_conditions = {\n",
    "    c_e: {\"left\": (np.cos(0), \"Neumann\"), \"right\": (np.cos(10), \"Neumann\")},\n",
    "    c_s: {\"left\": (0, \"Neumann\"), \"right\": (-1, \"Neumann\")},\n",
    "}\n",
    "model.initial_conditions = {c_e: 1 + 0.1 * pybamm.sin(10*x_var), c_s: 1}\n",
    "\n",
    "# Create a new discretisation and process model\n",
    "disc2 = pybamm.Discretisation(mesh, spatial_methods)\n",
    "disc2.process_model(model);"
   ]
  },
  {
   "cell_type": "markdown",
   "metadata": {},
   "source": [
    "The initial conditions are discretised to vectors, and an array of concatenated initial conditions is created."
   ]
  },
  {
   "cell_type": "code",
   "execution_count": 28,
   "metadata": {},
   "outputs": [
    {
     "data": {
      "image/png": "[encoded data removed]",
      "text/plain": [
       "<Figure size 936x288 with 3 Axes>"
      ]
     },
     "metadata": {
      "needs_background": "light"
     },
     "output_type": "display_data"
    }
   ],
   "source": [
    "c_e_0 = model.initial_conditions[c_e].evaluate()\n",
    "c_s_0 = model.initial_conditions[c_s].evaluate()\n",
    "y0 = model.concatenated_initial_conditions.evaluate()\n",
    "\n",
    "fig, (ax1, ax2, ax3) = plt.subplots(1, 3, figsize=(13,4))\n",
    "ax1.plot(x_fine, 1 + 0.1*np.sin(10*x_fine), x, c_e_0, \"o\")\n",
    "ax1.set_xlabel(\"x\")\n",
    "ax1.legend([\"1+0.1*sin(10*x)\", \"c_e_0\"], loc=\"best\")\n",
    "\n",
    "ax2.plot(x_fine, np.ones_like(r_fine), r, c_s_0, \"o\")\n",
    "ax2.set_xlabel(\"r\")\n",
    "ax2.legend([\"1\", \"c_s_0\"], loc=\"best\")\n",
    "\n",
    "ax3.plot(y0,\"*\")\n",
    "ax3.set_xlabel(\"index\")\n",
    "ax3.set_ylabel(\"y0\")\n",
    "\n",
    "plt.tight_layout()\n",
    "plt.show()"
   ]
  },
  {
   "cell_type": "markdown",
   "metadata": {},
   "source": [
    "The discretised rhs can be evaluated, for example at `0,y0`:"
   ]
  },
  {
   "cell_type": "code",
   "execution_count": 29,
   "metadata": {},
   "outputs": [
    {
     "data": {
      "image/png": "[encoded data removed]",
      "text/plain": [
       "<Figure size 936x288 with 3 Axes>"
      ]
     },
     "metadata": {
      "needs_background": "light"
     },
     "output_type": "display_data"
    }
   ],
   "source": [
    "rhs_c_e = model.rhs[c_e].evaluate(0, y0)\n",
    "rhs_c_s = model.rhs[c_s].evaluate(0, y0)\n",
    "rhs = model.concatenated_rhs.evaluate(0, y0)\n",
    "\n",
    "fig, (ax1, ax2, ax3) = plt.subplots(1, 3, figsize=(13,4))\n",
    "ax1.plot(x_fine, -10*np.sin(10*x_fine) - 5, x, rhs_c_e, \"o\")\n",
    "ax1.set_xlabel(\"x\")\n",
    "ax1.set_ylabel(\"rhs_c_e\")\n",
    "ax1.legend([\"1+0.1*sin(10*x)\", \"c_e_0\"], loc=\"best\")\n",
    "\n",
    "ax2.plot(r, rhs_c_s, \"o\")\n",
    "ax2.set_xlabel(\"r\")\n",
    "ax2.set_ylabel(\"rhs_c_s\")\n",
    "\n",
    "ax3.plot(rhs,\"*\")\n",
    "ax3.set_xlabel(\"index\")\n",
    "ax3.set_ylabel(\"rhs\")\n",
    "\n",
    "plt.tight_layout()\n",
    "plt.show()"
   ]
  },
  {
   "cell_type": "markdown",
   "metadata": {},
   "source": [
    "The function `model.concatenated_rhs` is then passed to the solver to solve the model, with initial conditions `model.concatenated_initial_conditions`."
   ]
  },
  {
   "cell_type": "markdown",
   "metadata": {},
   "source": [
    "## Upwinding and downwinding"
   ]
  },
  {
   "cell_type": "markdown",
   "metadata": {},
   "source": [
    "If a system is advection-dominated (Peclet number greater than around 40), then it is important to use upwinding (if velocity is positive) or downwinding (if velocity is negative) to obtain accurate results. To see this, consider the following model (without upwinding)"
   ]
  },
  {
   "cell_type": "code",
   "execution_count": 30,
   "metadata": {},
   "outputs": [
    {
     "data": {
      "application/vnd.jupyter.widget-view+json": {
       "model_id": "981ca5da060e40f59a45c5830b64afaf",
       "version_major": 2,
       "version_minor": 0
      },
      "text/plain": [
       "interactive(children=(FloatSlider(value=0.0, description='t', step=1.0), Output()), _dom_classes=('widget-inte…"
      ]
     },
     "metadata": {},
     "output_type": "display_data"
    }
   ],
   "source": [
    "model = pybamm.BaseModel()\n",
    "model.length_scales = {\n",
    "    \"negative electrode\": pybamm.Scalar(1), \n",
    "    \"separator\": pybamm.Scalar(1), \n",
    "    \"positive electrode\": pybamm.Scalar(1)\n",
    "}\n",
    "\n",
    "# Define concentration and velocity\n",
    "c = pybamm.Variable(\"c\", domain=[\"negative electrode\", \"separator\", \"positive electrode\"])\n",
    "v = pybamm.PrimaryBroadcastToEdges(1, [\"negative electrode\", \"separator\", \"positive electrode\"])\n",
    "model.rhs = {c: -pybamm.div(c * v) + 1}\n",
    "model.initial_conditions = {c: 0}\n",
    "model.boundary_conditions = {c: {\"left\": (0, \"Dirichlet\")}}\n",
    "model.variables = {\"c\": c}\n",
    "\n",
    "def solve_and_plot(model):\n",
    "    model_disc = disc.process_model(model, inplace=False)\n",
    "\n",
    "    t_eval = [0,100]\n",
    "    solution = pybamm.CasadiSolver().solve(model_disc, t_eval)\n",
    "\n",
    "    # plot\n",
    "    plot = pybamm.QuickPlot(solution,[\"c\"],spatial_unit=\"m\")\n",
    "    plot.dynamic_plot()\n",
    "    \n",
    "solve_and_plot(model)"
   ]
  },
  {
   "cell_type": "markdown",
   "metadata": {},
   "source": [
    "The concentration grows indefinitely, which is clearly an incorrect solution. Instead, we can use upwinding:"
   ]
  },
  {
   "cell_type": "code",
   "execution_count": 31,
   "metadata": {},
   "outputs": [
    {
     "data": {
      "application/vnd.jupyter.widget-view+json": {
       "model_id": "f83ad987884941ef907dae01b011ef17",
       "version_major": 2,
       "version_minor": 0
      },
      "text/plain": [
       "interactive(children=(FloatSlider(value=0.0, description='t', step=1.0), Output()), _dom_classes=('widget-inte…"
      ]
     },
     "metadata": {},
     "output_type": "display_data"
    }
   ],
   "source": [
    "model.rhs = {c: -pybamm.div(pybamm.upwind(c) * v) + 1}    \n",
    "solve_and_plot(model)"
   ]
  },
  {
   "cell_type": "markdown",
   "metadata": {},
   "source": [
    "This gives the expected linear steady state from 0 to 1. Similarly, if the velocity is negative, downwinding gives accurate results"
   ]
  },
  {
   "cell_type": "code",
   "execution_count": 32,
   "metadata": {},
   "outputs": [
    {
     "data": {
      "application/vnd.jupyter.widget-view+json": {
       "model_id": "2bcaabdc61674c02b24ff1af8cf8c8a4",
       "version_major": 2,
       "version_minor": 0
      },
      "text/plain": [
       "interactive(children=(FloatSlider(value=0.0, description='t', step=1.0), Output()), _dom_classes=('widget-inte…"
      ]
     },
     "metadata": {},
     "output_type": "display_data"
    }
   ],
   "source": [
    "model.rhs = {c: -pybamm.div(pybamm.downwind(c) * (-v)) + 1}   \n",
    "model.boundary_conditions = {c: {\"right\": (0, \"Dirichlet\")}}\n",
    "solve_and_plot(model)"
   ]
  },
  {
   "cell_type": "markdown",
   "metadata": {},
   "source": [
    "## More advanced concepts"
   ]
  },
  {
   "cell_type": "markdown",
   "metadata": {},
   "source": [
    "Since this notebook is only an introduction to the discretisation, we have not covered everything. More advanced concepts, such as the ones below, can be explored by looking into the [API docs](https://pybamm.readthedocs.io/en/latest/source/spatial_methods/finite_volume.html).\n",
    "\n",
    "- Gradient and divergence of microscale variables in the P2D model\n",
    "- Indefinite integral\n",
    "\n",
    "If you would like detailed examples of these operations, please [create an issue](https://github.com/pybamm-team/PyBaMM/blob/develop/CONTRIBUTING.md#a-before-you-begin) and we will be happy to help."
   ]
  },
  {
   "cell_type": "markdown",
   "metadata": {},
   "source": [
    "## References\n",
    "\n",
    "The relevant papers for this notebook are:"
   ]
  },
  {
   "cell_type": "code",
   "execution_count": 33,
   "metadata": {},
   "outputs": [
    {
     "name": "stdout",
     "output_type": "stream",
     "text": [
      "[1] Joel A. E. Andersson, Joris Gillis, Greg Horn, James B. Rawlings, and Moritz Diehl. CasADi – A software framework for nonlinear optimization and optimal control. Mathematical Programming Computation, 11(1):1–36, 2019. doi:10.1007/s12532-018-0139-4.\n",
      "[2] Charles R. Harris, K. Jarrod Millman, Stéfan J. van der Walt, Ralf Gommers, Pauli Virtanen, David Cournapeau, Eric Wieser, Julian Taylor, Sebastian Berg, Nathaniel J. Smith, and others. Array programming with NumPy. Nature, 585(7825):357–362, 2020. doi:10.1038/s41586-020-2649-2.\n",
      "[3] Valentin Sulzer, Scott G. Marquis, Robert Timms, Martin Robinson, and S. Jon Chapman. Python Battery Mathematical Modelling (PyBaMM). ECSarXiv. February, 2020. doi:10.1149/osf.io/67ckj.\n",
      "\n"
     ]
    }
   ],
   "source": [
    "pybamm.print_citations()"
   ]
  },
  {
   "cell_type": "code",
   "execution_count": null,
   "metadata": {},
   "outputs": [],
   "source": []
  }
 ],
 "metadata": {
  "kernelspec": {
   "display_name": "Python 3 (ipykernel)",
   "language": "python",
   "name": "python3"
  },
  "language_info": {
   "codemirror_mode": {
    "name": "ipython",
    "version": 3
   },
   "file_extension": ".py",
   "mimetype": "text/x-python",
   "name": "python",
   "nbconvert_exporter": "python",
   "pygments_lexer": "ipython3",
   "version": "3.9.0"
  },
  "toc": {
   "base_numbering": 1,
   "nav_menu": {},
   "number_sections": true,
   "sideBar": true,
   "skip_h1_title": false,
   "title_cell": "Table of Contents",
   "title_sidebar": "Contents",
   "toc_cell": false,
   "toc_position": {},
   "toc_section_display": true,
   "toc_window_display": true
  }
 },
 "nbformat": 4,
 "nbformat_minor": 2
}
