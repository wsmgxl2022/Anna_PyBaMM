{
 "cells": [
  {
   "cell_type": "markdown",
   "metadata": {},
   "source": [
    "# Creating a Simple Model for SEI Growth\n",
    "Before adding a new model, please read the [contribution guidelines](https://github.com/pybamm-team/PyBaMM/blob/develop/CONTRIBUTING.md)"
   ]
  },
  {
   "cell_type": "markdown",
   "metadata": {},
   "source": [
    "In this notebook, we will run through the steps involved in creating a new model within pybamm. We will then solve and plot the outputs of the model. We have chosen to implement a very simple model of SEI growth. We first give a brief derivation of the model and discuss how to nondimensionalise the model so that we can show the full process of model conception to solution within a single notebook.  "
   ]
  },
  {
   "cell_type": "markdown",
   "metadata": {},
   "source": [
    "Note: if you run the entire notebook and then try to evaluate the earlier cells, you will likely receive an error. This is because the state of objects is mutated as it is passed through various stages of processing. In this case, we recommend that you restart the Kernel and then evaluate cells in turn through the notebook. "
   ]
  },
  {
   "cell_type": "markdown",
   "metadata": {},
   "source": [
    "## A Simple Model of Solid Electrolyte Interphase (SEI) Growth"
   ]
  },
  {
   "cell_type": "markdown",
   "metadata": {},
   "source": [
    "The SEI is a porous layer that forms on the surfaces of negative electrode particles from the products of electrochemical reactions which consume lithium and electrolyte solvents. In the first few cycles of use, a lithium-ion battery loses a large amount of capacity; this is generally attributed to lithium being consumed to produce SEI. However, after a few cycles, the rate of capacity loss slows at a rate often (but not always) reported to scale with the square root of time. SEI growth is therefore often considered to be limited in some way by a diffusion process."
   ]
  },
  {
   "cell_type": "markdown",
   "metadata": {},
   "source": [
    "### Dimensional Model"
   ]
  },
  {
   "cell_type": "markdown",
   "metadata": {},
   "source": [
    "We shall first state our model in dimensional form, but to enter the model in pybamm, we strongly recommend converting models into dimensionless form. The main reason for this is that dimensionless models are typically better conditioned than dimensional models and so several digits of accuracy can be gained. To distinguish between the dimensional and dimensionless models, we shall always employ a superscript $*$ on dimensional variables. "
   ]
  },
  {
   "cell_type": "markdown",
   "metadata": {},
   "source": [
    "![SEI.png](SEI.png \"SEI Model Schematic\")"
   ]
  },
  {
   "cell_type": "markdown",
   "metadata": {},
   "source": [
    "In our simple SEI model, we consider a one-dimensional SEI which extends from the surface of a planar negative electrode at $x^*=0$ until $x^*=L^*$, where $L^*$ is the thickness of the SEI. Since the SEI is porous, there is some electrolyte within the region $x^*\\in[0, L^*]$ and therefore some concentration of solvent, $c^*$. Within the porous SEI, the solvent is transported via a diffusion process according to:\n",
    "$$\n",
    "\\frac{\\partial c^*}{\\partial t^*} = - \\nabla^* \\cdot N^*, \\quad N^* = - D^*(c^*) \\nabla^* c^* \\label{dim:eqn:solvent-diffusion}\\tag{1}\\\\\n",
    "$$\n",
    "where $t^*$ is the time, $N^*$ is the solvent flux, and $D^*(c^*)$ is the effective solvent diffusivity (a function of the solvent concentration).\n",
    "\n",
    "On the electrode-SEI surface ($x^*=0$) the solvent is consumed by the SEI growth reaction, $R^*$. We assume that diffusion of solvent in the bulk electrolyte ($x^*>L^*$) is fast so that on the SEI-electrolyte surface ($x^*=L^*$) the concentration of solvent is fixed at the value $c^*_{\\infty}$. Therefore, the boundary conditions are\n",
    "$$\n",
    "    N^*|_{x^*=0} = - R^*, \\quad c^*|_{x^*=L^*} = c^*_{\\infty},\n",
    "$$\n",
    "We also assume that the concentration of solvent within the SEI is initially uniform and equal to the bulk electrolyte solvent concentration, so that the initial condition is\n",
    "$$\n",
    "   c^*|_{t^*=0} = c^*_{\\infty}\n",
    "$$\n",
    "\n",
    "Since the SEI is growing, we require an additional equation for the SEI thickness. The thickness of the SEI grows at a rate proportional to the SEI growth reaction $R^*$, where the constant of proportionality is the partial molar volume of the reaction products, $\\hat{V}^*$. We also assume that the SEI is initially of thickness $L^*_0$. Therefore, we have\n",
    "$$\n",
    "    \\frac{d L^*}{d t^*} = \\hat{V}^* R^*, \\quad L^*|_{t^*=0} = L^*_0\n",
    "$$\n",
    "\n",
    "Finally, we assume for the sake of simplicity that the SEI growth reaction is irreversible and that the potential difference across the SEI is constant. The reaction is also assumed to be proportional to the concentration of solvent at the electrode-SEI surface ($x^*=0$). Therefore, the reaction flux is given by\n",
    "$$\n",
    " R^* = k^* c^*|_{x^*=0}\n",
    "$$\n",
    "where $k^*$ is the reaction rate constant (which is in general dependent upon the potential difference across the SEI)."
   ]
  },
  {
   "cell_type": "markdown",
   "metadata": {},
   "source": [
    "### Non-dimensionalisation"
   ]
  },
  {
   "cell_type": "markdown",
   "metadata": {},
   "source": [
    "To convert the model into dimensionless form, we scale the dimensional variables and dimensional functions. For this model, we choose to scale $x^*$ by the current SEI thickness, the current SEI thickness by the initial SEI thickness, solvent concentration with the bulk electrolyte solvent concentration, and the solvent diffusion with the solvent diffusion in the electrolyte. We then use these scalings to infer the scaling for the solvent flux. Therefore, we have\n",
    "$$\n",
    "x^* = L^* x, \\quad L^*= L^*_0 L \\quad c^* = c^*_{\\infty} c, \\quad D^*(c^*) = D^*(c^*_{\\infty}) D(c), \\quad  \n",
    "N^* = \\frac{D^*(c^*_{\\infty}) c^*_{\\infty}}{L^*_0}N.\n",
    "$$\n",
    "We also choose to scale time by the solvent diffusion timescale so that \n",
    "$$\n",
    "t^* = \\frac{(L^*_0)^2}{D^*(c^*_{\\infty})}t.\n",
    "$$\n",
    "Finally, we choose to scale the reaction flux in the same way as the solvent flux so that we have\n",
    "$$\n",
    "    R^* = \\frac{D^*(c^*_{\\infty}) c^*_{\\infty}}{L^*_0} R.\n",
    "$$\n",
    "\n",
    "We note that there are multiple possible choices of scalings. Whilst they will all give the ultimately give the same answer, some choices are better than others depending on the situation under study."
   ]
  },
  {
   "cell_type": "markdown",
   "metadata": {},
   "source": [
    "### Dimensionless Model"
   ]
  },
  {
   "cell_type": "markdown",
   "metadata": {},
   "source": [
    "After substituting in the scalings from the previous section, we obtain the dimensionless form of the model given by:"
   ]
  },
  {
   "cell_type": "markdown",
   "metadata": {},
   "source": [
    "Solvent diffusion through SEI:\n",
    "\\begin{align}\n",
    "\\frac{\\partial c}{\\partial t} = \\frac{\\hat{V} R}{L} x \\cdot \\nabla c - \\frac{1}{L}\\nabla \\cdot N, \\quad N = - \\frac{1}{L}D(c) \\nabla c, \\label{eqn:solvent-diffusion}\\tag{1}\\\\\n",
    "N|_{x=0} = - R, \\quad c|_{x=1} = 1  \\label{bc:solvent-diffusion}\\tag{2} \\quad\n",
    "c|_{t=0} = 1; \n",
    "\\end{align}\n",
    "\n",
    "Growth reaction:\n",
    "$$\n",
    "R = k c|_{x=0}; \\label{eqn:reaction}\\tag{3}\n",
    "$$\n",
    "\n",
    "SEI thickness:\n",
    "$$\n",
    "\\frac{d L}{d t} = \\hat{V} R, \\quad L|_{t=0} = 1; \\label{eqn:SEI-thickness}\\tag{4}\n",
    "$$\n",
    "where the dimensionless parameters are given by\n",
    "$$\n",
    " k = \\frac{k^* L^*_0}{D^*(c^*_{\\infty})}, \\quad \\hat{V} = \\hat{V}^* c^*_{\\infty}, \\quad \n",
    " D(c) = \\frac{D^*(c^*)}{D^*(c^*_{\\infty})}.  \\label{parameters}\\tag{5}\n",
    "$$\n",
    "In the above, the additional advective term in the diffusion equation arises due to our choice to scale the spatial coordinate $x^*$ with the time-dependent SEI layer thickness $L^*$."
   ]
  },
  {
   "cell_type": "markdown",
   "metadata": {},
   "source": [
    "## Entering the Model into PyBaMM"
   ]
  },
  {
   "cell_type": "markdown",
   "metadata": {},
   "source": [
    "As always, we begin by importing pybamm and changing our working directory to the root of the pybamm folder."
   ]
  },
  {
   "cell_type": "code",
   "execution_count": 1,
   "metadata": {},
   "outputs": [
    {
     "name": "stdout",
     "output_type": "stream",
     "text": [
      "\u001b[33mWARNING: You are using pip version 21.0.1; however, version 21.1.2 is available.\n",
      "You should consider upgrading via the '/home/user/Documents/PyBaMM/env/bin/python3.8 -m pip install --upgrade pip' command.\u001b[0m\n",
      "Note: you may need to restart the kernel to use updated packages.\n"
     ]
    }
   ],
   "source": [
    "%pip install pybamm -q    # install PyBaMM if it is not installed\n",
    "import pybamm\n",
    "import numpy as np\n",
    "import os\n",
    "os.chdir(pybamm.__path__[0]+'/..')"
   ]
  },
  {
   "cell_type": "markdown",
   "metadata": {},
   "source": [
    "A model is defined in six steps:\n",
    "1. Initialise model\n",
    "2. Define parameters and variables\n",
    "3. State governing equations\n",
    "4. State boundary conditions\n",
    "5. State initial conditions\n",
    "6. State output variables\n",
    "\n",
    "We shall proceed through each step to enter our simple SEI growth model."
   ]
  },
  {
   "cell_type": "markdown",
   "metadata": {},
   "source": [
    "#### 1. Initialise model"
   ]
  },
  {
   "cell_type": "markdown",
   "metadata": {},
   "source": [
    "We first initialise the model using the `BaseModel` class. This sets up the required structure for our model. "
   ]
  },
  {
   "cell_type": "code",
   "execution_count": 2,
   "metadata": {},
   "outputs": [],
   "source": [
    "model = pybamm.BaseModel()"
   ]
  },
  {
   "cell_type": "markdown",
   "metadata": {},
   "source": [
    "#### 2. Define parameters and variables"
   ]
  },
  {
   "cell_type": "markdown",
   "metadata": {},
   "source": [
    "In our SEI model, we have two dimensionless parameters, $k$ and $\\hat{V}$, and one dimensionless function $D(c)$, which are all given in terms of the dimensional parameters, see (5). In pybamm, inputs are dimensional, so we first state all the dimensional parameters. We then define the dimensionless parameters, which are expressed an non-dimensional groupings of dimensional parameters. To define the dimensional parameters, we use the `Parameter` object to create parameter symbols. Parameters which are functions are defined using  `FunctionParameter` object and should be defined within a python function as shown. "
   ]
  },
  {
   "cell_type": "code",
   "execution_count": 3,
   "metadata": {},
   "outputs": [],
   "source": [
    "# dimensional parameters\n",
    "k_dim = pybamm.Parameter(\"Reaction rate constant [m.s-1]\")\n",
    "L_0_dim = pybamm.Parameter(\"Initial thickness [m]\")\n",
    "V_hat_dim = pybamm.Parameter(\"Partial molar volume [m3.mol-1]\")\n",
    "c_inf_dim = pybamm.Parameter(\"Bulk electrolyte solvent concentration [mol.m-3]\")\n",
    "\n",
    "def D_dim(cc):\n",
    "    return pybamm.FunctionParameter(\"Diffusivity [m2.s-1]\", {\"Solvent concentration [mol.m-3]\": cc})\n",
    "\n",
    "# dimensionless parameters\n",
    "k = k_dim * L_0_dim / D_dim(c_inf_dim)\n",
    "V_hat = V_hat_dim * c_inf_dim\n",
    "\n",
    "def D(cc):\n",
    "    c_dim = c_inf_dim * cc\n",
    "    return D_dim(c_dim) / D_dim(c_inf_dim)"
   ]
  },
  {
   "cell_type": "markdown",
   "metadata": {},
   "source": [
    "We now define the dimensionless variables in our model. Since these are the variables we solve for directly, we do not need to write them in terms of the dimensional variables. We simply use `SpatialVariable` and `Variable` to create the required symbols: "
   ]
  },
  {
   "cell_type": "code",
   "execution_count": 4,
   "metadata": {},
   "outputs": [],
   "source": [
    "x = pybamm.SpatialVariable(\"x\", domain=\"SEI layer\", coord_sys=\"cartesian\")\n",
    "c = pybamm.Variable(\"Solvent concentration\", domain=\"SEI layer\")\n",
    "L = pybamm.Variable(\"SEI thickness\")"
   ]
  },
  {
   "cell_type": "markdown",
   "metadata": {},
   "source": [
    "Since the model is written in nondimensional form we need to tell pybamm the time and length scales we will be using. For the model lengthscales we provide a dictionary giving the scales for each domain (which may be different). In our case we have a single domain \"SEI layer\"."
   ]
  },
  {
   "cell_type": "code",
   "execution_count": 5,
   "metadata": {},
   "outputs": [],
   "source": [
    "model.timescale = L_0_dim ** 2 /  D_dim(c_inf_dim)\n",
    "model.length_scales = {\"SEI layer\": L_0_dim}"
   ]
  },
  {
   "cell_type": "markdown",
   "metadata": {},
   "source": [
    "#### 3. State governing equations"
   ]
  },
  {
   "cell_type": "markdown",
   "metadata": {},
   "source": [
    "We can now use the symbols we have created for our parameters and variables to write out our governing equations. Note that before we use the reaction flux and solvent flux, we must derive new symbols for them from the defined parameter and variable symbols. Each governing equation must also be stated in the explicit form `d/dt = rhs` since pybamm only stores the right hand side (rhs) and assumes that the left hand side is the time derivative. The governing equations are then simply"
   ]
  },
  {
   "cell_type": "code",
   "execution_count": 6,
   "metadata": {},
   "outputs": [],
   "source": [
    "# SEI reaction flux\n",
    "R = k * pybamm.BoundaryValue(c, \"left\")\n",
    "\n",
    "# solvent concentration equation\n",
    "N = - (1 / L) * D(c) * pybamm.grad(c)\n",
    "dcdt = (V_hat * R) * pybamm.inner(x / L, pybamm.grad(c)) - (1 / L) * pybamm.div(N)\n",
    "\n",
    "# SEI thickness equation\n",
    "dLdt = V_hat * R"
   ]
  },
  {
   "cell_type": "markdown",
   "metadata": {},
   "source": [
    "Once we have stated the equations, we can add them to the `model.rhs` dictionary. This is a dictionary whose keys are the variables being solved for, and whose values correspond right hand sides of the governing equations for each variable."
   ]
  },
  {
   "cell_type": "code",
   "execution_count": 7,
   "metadata": {},
   "outputs": [],
   "source": [
    "model.rhs = {c: dcdt, L: dLdt}"
   ]
  },
  {
   "cell_type": "markdown",
   "metadata": {},
   "source": [
    "#### 4. State boundary conditions"
   ]
  },
  {
   "cell_type": "markdown",
   "metadata": {},
   "source": [
    "We only have boundary conditions on the solvent concentration equation. We must state where a condition is Neumann (on the gradient) or Dirichlet (on the variable itself). \n",
    "\n",
    "The boundary condition on the electrode-SEI (x=0) boundary is: \n",
    "$$\n",
    "    N|_{x=0} = - R, \\quad  N|_{x=0} = - \\frac{1}{L} D(c|_{x=0} )\\nabla c|_{x=0}\n",
    "$$\n",
    "which is a Neumann condition. To implement this boundary condition in pybamm, we must first rearrange the equation so that the gradient of the concentration, $\\nabla c|_{x=0}$, is the subject. Therefore we have\n",
    "$$\n",
    "    \\nabla c|_{x=0} = \\frac{L R}{D(c|_{x=0} )}\n",
    "$$\n",
    "which we enter into pybamm as   "
   ]
  },
  {
   "cell_type": "code",
   "execution_count": 8,
   "metadata": {},
   "outputs": [],
   "source": [
    "D_left = pybamm.BoundaryValue(D(c), \"left\") # pybamm requires BoundaryValue(D(c)) and not D(BoundaryValue(c)) \n",
    "grad_c_left = L * R / D_left"
   ]
  },
  {
   "cell_type": "markdown",
   "metadata": {},
   "source": [
    "On the SEI-electrolyte boundary (x=1), we have the boundary condition\n",
    "$$\n",
    "    c|_{x=1} = 1\n",
    "$$"
   ]
  },
  {
   "cell_type": "markdown",
   "metadata": {},
   "source": [
    "which is a Dirichlet condition and is just entered as"
   ]
  },
  {
   "cell_type": "code",
   "execution_count": 9,
   "metadata": {},
   "outputs": [],
   "source": [
    "c_right = pybamm.Scalar(1)"
   ]
  },
  {
   "cell_type": "markdown",
   "metadata": {},
   "source": [
    "We now load these boundary conditions into the `model.boundary_conditions` dictionary in the following way, being careful to state the type of boundary condition: "
   ]
  },
  {
   "cell_type": "code",
   "execution_count": 10,
   "metadata": {},
   "outputs": [],
   "source": [
    "model.boundary_conditions = {c: {\"left\": (grad_c_left, \"Neumann\"), \"right\": (c_right, \"Dirichlet\")}}"
   ]
  },
  {
   "cell_type": "markdown",
   "metadata": {},
   "source": [
    "#### 5. State initial conditions"
   ]
  },
  {
   "cell_type": "markdown",
   "metadata": {},
   "source": [
    "There are two initial conditions in our model:\n",
    "$$\n",
    "    c|_{t=0} = 1, \\quad L|_{t=0} = 1\n",
    "$$"
   ]
  },
  {
   "cell_type": "markdown",
   "metadata": {},
   "source": [
    "which are simply written in pybamm as"
   ]
  },
  {
   "cell_type": "code",
   "execution_count": 11,
   "metadata": {},
   "outputs": [],
   "source": [
    "c_init = pybamm.Scalar(1)\n",
    "L_init = pybamm.Scalar(1)"
   ]
  },
  {
   "cell_type": "markdown",
   "metadata": {},
   "source": [
    "and then included into the `model.initial_conditions` dictionary:"
   ]
  },
  {
   "cell_type": "code",
   "execution_count": 12,
   "metadata": {},
   "outputs": [],
   "source": [
    "model.initial_conditions = {c: c_init, L: L_init}"
   ]
  },
  {
   "cell_type": "markdown",
   "metadata": {},
   "source": [
    "#### 6. State output variables"
   ]
  },
  {
   "cell_type": "markdown",
   "metadata": {},
   "source": [
    "We already have everything required in model for the model to be used and solved, but we have not yet stated what we actually want to output from the model. PyBaMM allows users to output any combination of symbols as an output variable therefore allowing the user the flexibility to output important quantities without further tedious postprocessing steps. \n",
    "\n",
    "Some useful outputs for this simple model are:\n",
    "- the SEI thickness\n",
    "- the SEI growth rate\n",
    "- the solvent concentration\n",
    "\n",
    "These are added to the model by adding entries to the `model.variables` dictionary"
   ]
  },
  {
   "cell_type": "code",
   "execution_count": 13,
   "metadata": {},
   "outputs": [],
   "source": [
    "model.variables = {\"SEI thickness\": L, \"SEI growth rate\": dLdt, \"Solvent concentration\": c}"
   ]
  },
  {
   "cell_type": "markdown",
   "metadata": {},
   "source": [
    "We can also output the dimensional versions of these variables by multiplying by the scalings used to non-dimensionalise. By convention, we recommend including the units in the output variables name so that they do not overwrite the dimensionless output variables. To add new entries to the dictionary we used the method `.update()`."
   ]
  },
  {
   "cell_type": "code",
   "execution_count": 14,
   "metadata": {},
   "outputs": [],
   "source": [
    "L_dim = L_0_dim * L\n",
    "dLdt_dim = (D_dim(c_inf_dim) / L_0_dim ) * dLdt\n",
    "c_dim = c_inf_dim * c\n",
    "\n",
    "model.variables.update(\n",
    "    {\n",
    "        \"SEI thickness [m]\": L_dim, \n",
    "        \"SEI growth rate [m.s-1]\": dLdt_dim, \n",
    "        \"Solvent concentration [mol.m-3]\": c_dim\n",
    "    }\n",
    ")\n"
   ]
  },
  {
   "cell_type": "markdown",
   "metadata": {},
   "source": [
    "The model is now fully defined and ready to be used. If you plan on reusing the model several times, you can additionally set model defaults which may include: a default geometry to run the model on, a default set of parameter values, a default solver, etc."
   ]
  },
  {
   "cell_type": "markdown",
   "metadata": {},
   "source": [
    "## Using the Model"
   ]
  },
  {
   "cell_type": "markdown",
   "metadata": {},
   "source": [
    "The model will now behave in the same way as any of the inbuilt PyBaMM models. However, to demonstrate that the model works we display the steps involved in solving the model but we will not go into details within this notebook."
   ]
  },
  {
   "cell_type": "code",
   "execution_count": 15,
   "metadata": {},
   "outputs": [
    {
     "data": {
      "text/plain": [
       "<pybamm.models.base_model.BaseModel at 0x7f2afc6dc100>"
      ]
     },
     "execution_count": 15,
     "metadata": {},
     "output_type": "execute_result"
    }
   ],
   "source": [
    "# define geometry\n",
    "geometry = pybamm.Geometry(\n",
    "    {\"SEI layer\": {x: {\"min\": pybamm.Scalar(0), \"max\": pybamm.Scalar(1)}}}\n",
    ")\n",
    "\n",
    "def Diffusivity(cc):\n",
    "    return cc * 10**(-5)\n",
    "\n",
    "# parameter values (not physically based, for example only!)\n",
    "param = pybamm.ParameterValues(\n",
    "    {\n",
    "        \"Reaction rate constant [m.s-1]\": 20,\n",
    "        \"Initial thickness [m]\": 1e-6,\n",
    "        \"Partial molar volume [m3.mol-1]\": 10,\n",
    "        \"Bulk electrolyte solvent concentration [mol.m-3]\": 1,\n",
    "        \"Diffusivity [m2.s-1]\": Diffusivity,\n",
    "    }\n",
    ")\n",
    "\n",
    "# process model and geometry\n",
    "param.process_model(model)\n",
    "param.process_geometry(geometry)\n",
    "\n",
    "# mesh and discretise\n",
    "submesh_types = {\"SEI layer\": pybamm.Uniform1DSubMesh}\n",
    "var_pts = {x: 100}\n",
    "mesh = pybamm.Mesh(geometry, submesh_types, var_pts)\n",
    "                   \n",
    "spatial_methods = {\"SEI layer\": pybamm.FiniteVolume()}\n",
    "disc = pybamm.Discretisation(mesh, spatial_methods)\n",
    "disc.process_model(model)"
   ]
  },
  {
   "cell_type": "code",
   "execution_count": 16,
   "metadata": {},
   "outputs": [],
   "source": [
    "# solve\n",
    "solver = pybamm.ScipySolver()\n",
    "timescale = param.evaluate(model.timescale)\n",
    "t = np.linspace(0, 100*timescale , 100) # solve to dimensionless time of 100\n",
    "solution = solver.solve(model, t)\n",
    "\n",
    "# post-process output variables\n",
    "L_out = solution[\"SEI thickness [m]\"]\n",
    "c_out = solution[\"Solvent concentration [mol.m-3]\"]"
   ]
  },
  {
   "cell_type": "markdown",
   "metadata": {},
   "source": [
    "Using these outputs, we can now plot the SEI thickness as a function of time and also the solvent concentration profile within the SEI. We use a slider to plot the concentration profile at different times. Note that, even though our model is written in nondimensional form, the processed variables are functions of dimensional space and time (in SI units). "
   ]
  },
  {
   "cell_type": "code",
   "execution_count": 17,
   "metadata": {},
   "outputs": [
    {
     "data": {
      "application/vnd.jupyter.widget-view+json": {
       "model_id": "9a36511202a146fdbc57f80547747cbe",
       "version_major": 2,
       "version_minor": 0
      },
      "text/plain": [
       "interactive(children=(FloatSlider(value=0.0, description='t', max=10.0), Output()), _dom_classes=('widget-inte…"
      ]
     },
     "metadata": {},
     "output_type": "display_data"
    }
   ],
   "source": [
    "import matplotlib.pyplot as plt\n",
    "\n",
    "# plot SEI thickness in microns as a function of t in microseconds\n",
    "# and concentration in mol/m3 as a function of x in microns\n",
    "x = np.linspace(0, 1, 100) # dimensionless space\n",
    "lengthscale = param.evaluate(L_0_dim)\n",
    "x_in_metres = x * lengthscale\n",
    "\n",
    "def plot(t):\n",
    "    t_in_seconds = t / 1e6\n",
    "    f, (ax1, ax2) = plt.subplots(1, 2 ,figsize=(10,5))\n",
    "    ax1.plot(solution.t * timescale * 1e6, L_out(solution.t * timescale) * 1e6)\n",
    "    ax1.plot(t, L_out(t_in_seconds) * 1e6, 'r.')\n",
    "    ax1.set_xlim(0, 10)\n",
    "    ax1.set_ylabel(r'SEI thickness [$\\mu$m]')\n",
    "    ax1.set_xlabel(r't [$\\mu$s]')  \n",
    "    \n",
    "    plot_c, = ax2.plot(x * 1e6 * L_out(t_in_seconds), c_out(t_in_seconds, x_in_metres))\n",
    "    ax2.set_ylim(0, 1.1)\n",
    "    ax2.set_xlim(0, x[-1] * 1e6 * L_out(solution.t[-1]*timescale))    \n",
    "    ax2.set_ylabel('Solvent concentration [mol.m-3]')\n",
    "    ax2.set_xlabel(r'x [$\\mu$m]')\n",
    "\n",
    "    plt.tight_layout()\n",
    "    plt.show()\n",
    "    \n",
    "import ipywidgets as widgets\n",
    "widgets.interact(plot, t=widgets.FloatSlider(min=0,max=solution.t[-1]*timescale*1e6,step=0.1,value=0));"
   ]
  },
  {
   "cell_type": "markdown",
   "metadata": {},
   "source": [
    "## Formally adding your model"
   ]
  },
  {
   "cell_type": "markdown",
   "metadata": {},
   "source": [
    "The purpose of this notebook has been to go through the steps involved in getting a simple model working within PyBaMM. However, if you plan on reusing your model and want greater flexibility then we recommend that you create a new class for your model. We have set out instructions on how to do this in the \"Adding a Model\" tutorial in the documentation. "
   ]
  },
  {
   "cell_type": "markdown",
   "metadata": {},
   "source": [
    "## References\n",
    "\n",
    "The relevant papers for this notebook are:"
   ]
  },
  {
   "cell_type": "code",
   "execution_count": 18,
   "metadata": {},
   "outputs": [
    {
     "name": "stdout",
     "output_type": "stream",
     "text": [
      "[1] Joel A. E. Andersson, Joris Gillis, Greg Horn, James B. Rawlings, and Moritz Diehl. CasADi – A software framework for nonlinear optimization and optimal control. Mathematical Programming Computation, 11(1):1–36, 2019. doi:10.1007/s12532-018-0139-4.\n",
      "[2] Charles R. Harris, K. Jarrod Millman, Stéfan J. van der Walt, Ralf Gommers, Pauli Virtanen, David Cournapeau, Eric Wieser, Julian Taylor, Sebastian Berg, Nathaniel J. Smith, and others. Array programming with NumPy. Nature, 585(7825):357–362, 2020. doi:10.1038/s41586-020-2649-2.\n",
      "[3] Valentin Sulzer, Scott G. Marquis, Robert Timms, Martin Robinson, and S. Jon Chapman. Python Battery Mathematical Modelling (PyBaMM). ECSarXiv. February, 2020. doi:10.1149/osf.io/67ckj.\n",
      "[4] Pauli Virtanen, Ralf Gommers, Travis E. Oliphant, Matt Haberland, Tyler Reddy, David Cournapeau, Evgeni Burovski, Pearu Peterson, Warren Weckesser, Jonathan Bright, and others. SciPy 1.0: fundamental algorithms for scientific computing in Python. Nature Methods, 17(3):261–272, 2020. doi:10.1038/s41592-019-0686-2.\n",
      "\n"
     ]
    }
   ],
   "source": [
    "pybamm.print_citations()"
   ]
  }
 ],
 "metadata": {
  "kernelspec": {
   "display_name": "Python 3 (ipykernel)",
   "language": "python",
   "name": "python3"
  },
  "language_info": {
   "codemirror_mode": {
    "name": "ipython",
    "version": 3
   },
   "file_extension": ".py",
   "mimetype": "text/x-python",
   "name": "python",
   "nbconvert_exporter": "python",
   "pygments_lexer": "ipython3",
   "version": "3.9.0"
  }
 },
 "nbformat": 4,
 "nbformat_minor": 2
}
