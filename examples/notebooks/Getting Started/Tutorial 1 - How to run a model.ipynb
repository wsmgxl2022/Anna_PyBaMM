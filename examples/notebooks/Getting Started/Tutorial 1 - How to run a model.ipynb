{
 "cells": [
  {
   "cell_type": "markdown",
   "metadata": {},
   "source": [
    "# Tutorial 1 - How to run a model"
   ]
  },
  {
   "cell_type": "markdown",
   "metadata": {},
   "source": [
    "Welcome to PyBaMM! In this notebook, we will run your first PyBaMM model in just a few simple lines. \n",
    "\n",
    "To run through this jupyter notebook simply shift-enter to run the cells. If you are unfamiliar with jupyter notebooks we recommending checking out this [cheat sheet](https://www.cheatography.com/weidadeyue/cheat-sheets/jupyter-notebook/pdf_bw/).\n",
    "\n",
    "We begin by importing the pybamm library into this notebook:"
   ]
  },
  {
   "cell_type": "code",
   "execution_count": 1,
   "metadata": {},
   "outputs": [
    {
     "name": "stdout",
     "output_type": "stream",
     "text": [
      "Note: you may need to restart the kernel to use updated packages.\n"
     ]
    }
   ],
   "source": [
    "%pip install pybamm -q    # install PyBaMM if it is not installed\n",
    "import pybamm"
   ]
  },
  {
   "cell_type": "markdown",
   "metadata": {},
   "source": [
    "We now load the model that we wish to run. For this notebook, we choose the Doyle-Fuller-Newman (DFN) model:"
   ]
  },
  {
   "cell_type": "code",
   "execution_count": 2,
   "metadata": {},
   "outputs": [],
   "source": [
    "model = pybamm.lithium_ion.DFN()"
   ]
  },
  {
   "cell_type": "markdown",
   "metadata": {},
   "source": [
    "We now use this model to create a PyBaMM Simulation, which is used to process and solve the model:"
   ]
  },
  {
   "cell_type": "code",
   "execution_count": 3,
   "metadata": {},
   "outputs": [],
   "source": [
    "sim = pybamm.Simulation(model)"
   ]
  },
  {
   "cell_type": "markdown",
   "metadata": {},
   "source": [
    "We can then call 'solve' on our simulation object to solve the model, passing the window of time to solve for in seconds (here 1 hour):"
   ]
  },
  {
   "cell_type": "code",
   "execution_count": 4,
   "metadata": {},
   "outputs": [
    {
     "data": {
      "text/plain": [
       "<pybamm.solvers.solution.Solution at 0x7f2af3787950>"
      ]
     },
     "execution_count": 4,
     "metadata": {},
     "output_type": "execute_result"
    }
   ],
   "source": [
    "sim.solve([0, 3600])"
   ]
  },
  {
   "cell_type": "markdown",
   "metadata": {},
   "source": [
    "Finally, we can call 'plot' to generate a dynamic plot of the key variables:"
   ]
  },
  {
   "cell_type": "code",
   "execution_count": 5,
   "metadata": {},
   "outputs": [
    {
     "data": {
      "application/vnd.jupyter.widget-view+json": {
       "model_id": "f9b1adea8f744bf3bd8ab65f6af94c18",
       "version_major": 2,
       "version_minor": 0
      },
      "text/plain": [
       "interactive(children=(FloatSlider(value=0.0, description='t', max=1.0, step=0.01), Output()), _dom_classes=('w…"
      ]
     },
     "metadata": {},
     "output_type": "display_data"
    }
   ],
   "source": [
    "sim.plot()"
   ]
  },
  {
   "cell_type": "markdown",
   "metadata": {},
   "source": [
    "In this tutorial, we have solved a model with the inbuilt default settings. However, PyBaMM is designed to be highly customisable. Over the course of the getting started tutorials, we will see how various settings can be changed so that the model is appropriate for your situation. \n",
    "\n",
    "In [Tutorial 2](./Tutorial%202%20-%20Compare%20models.ipynb) we cover how to simulate and compare different models."
   ]
  },
  {
   "cell_type": "markdown",
   "metadata": {},
   "source": [
    "## References\n",
    "\n",
    "If you write a paper that uses PyBaMM, we would be grateful if you could cite the papers relevant to your code. These will change depending on what models and solvers you use. To find out which papers you should cite, you can run:"
   ]
  },
  {
   "cell_type": "code",
   "execution_count": 6,
   "metadata": {},
   "outputs": [
    {
     "name": "stdout",
     "output_type": "stream",
     "text": [
      "[1] Joel A. E. Andersson, Joris Gillis, Greg Horn, James B. Rawlings, and Moritz Diehl. CasADi – A software framework for nonlinear optimization and optimal control. Mathematical Programming Computation, 11(1):1–36, 2019. doi:10.1007/s12532-018-0139-4.\n",
      "[2] Marc Doyle, Thomas F. Fuller, and John Newman. Modeling of galvanostatic charge and discharge of the lithium/polymer/insertion cell. Journal of the Electrochemical society, 140(6):1526–1533, 1993. doi:10.1149/1.2221597.\n",
      "[3] Charles R. Harris, K. Jarrod Millman, Stéfan J. van der Walt, Ralf Gommers, Pauli Virtanen, David Cournapeau, Eric Wieser, Julian Taylor, Sebastian Berg, Nathaniel J. Smith, and others. Array programming with NumPy. Nature, 585(7825):357–362, 2020. doi:10.1038/s41586-020-2649-2.\n",
      "[4] Scott G. Marquis, Valentin Sulzer, Robert Timms, Colin P. Please, and S. Jon Chapman. An asymptotic derivation of a single particle model with electrolyte. Journal of The Electrochemical Society, 166(15):A3693–A3706, 2019. doi:10.1149/2.0341915jes.\n",
      "[5] Valentin Sulzer, Scott G. Marquis, Robert Timms, Martin Robinson, and S. Jon Chapman. Python Battery Mathematical Modelling (PyBaMM). ECSarXiv. February, 2020. doi:10.1149/osf.io/67ckj.\n",
      "\n"
     ]
    }
   ],
   "source": [
    "pybamm.print_citations()"
   ]
  },
  {
   "cell_type": "markdown",
   "metadata": {},
   "source": [
    "Alternatively, you can print the citations in BibTeX format by running:"
   ]
  },
  {
   "cell_type": "code",
   "execution_count": 7,
   "metadata": {},
   "outputs": [
    {
     "name": "stdout",
     "output_type": "stream",
     "text": [
      "@article{Andersson2019,\n",
      "  author = {Andersson, Joel A. E. and Gillis, Joris and Horn, Greg\n",
      "            and Rawlings, James B. and Diehl, Moritz},\n",
      "  title = {{CasADi -- A software framework for nonlinear optimization\n",
      "           and optimal control}},\n",
      "  journal = {Mathematical Programming Computation},\n",
      "  volume = {11},\n",
      "  number = {1},\n",
      "  pages = {1--36},\n",
      "  year = {2019},\n",
      "  publisher = {Springer},\n",
      "  doi = {10.1007/s12532-018-0139-4},\n",
      "}\n",
      "\n",
      "\n",
      "@article{Marquis2019,\n",
      "  title = {{An asymptotic derivation of a single particle model with electrolyte}},\n",
      "  author = {Marquis, Scott G. and Sulzer, Valentin and Timms, Robert and Please, Colin P. and Chapman, S. Jon},\n",
      "  journal = {Journal of The Electrochemical Society},\n",
      "  volume = {166},\n",
      "  number = {15},\n",
      "  pages = {A3693--A3706},\n",
      "  year = {2019},\n",
      "  publisher = {The Electrochemical Society},\n",
      "  doi = {10.1149/2.0341915jes},\n",
      "}\n",
      "\n",
      "\n",
      "@article{Harris2020,\n",
      "  title = {{Array programming with NumPy}},\n",
      "  author = {Harris, Charles R. and Millman, K. Jarrod and van der Walt, St{\\'{e}}fan J. and Gommers, Ralf and Virtanen, Pauli and Cournapeau, David and Wieser, Eric and Taylor, Julian and Berg, Sebastian and Smith, Nathaniel J. and others},\n",
      "  journal = {Nature},\n",
      "  volume = {585},\n",
      "  number = {7825},\n",
      "  pages = {357--362},\n",
      "  year = {2020},\n",
      "  publisher = {Nature Publishing Group},\n",
      "  doi = {10.1038/s41586-020-2649-2},\n",
      "}\n",
      "\n",
      "\n",
      "@article{Doyle1993,\n",
      "  title = {{Modeling of galvanostatic charge and discharge of the lithium/polymer/insertion cell}},\n",
      "  author = {Doyle, Marc and Fuller, Thomas F. and Newman, John},\n",
      "  journal = {Journal of the Electrochemical society},\n",
      "  volume = {140},\n",
      "  number = {6},\n",
      "  pages = {1526--1533},\n",
      "  year = {1993},\n",
      "  publisher = {The Electrochemical Society},\n",
      "  doi = {10.1149/1.2221597},\n",
      "}\n",
      "\n",
      "\n",
      "@article{Sulzer2020,\n",
      "  title = {{Python Battery Mathematical Modelling (PyBaMM)}},\n",
      "  author = {Sulzer, Valentin and Marquis, Scott G. and Timms, Robert and Robinson, Martin and Chapman, S. Jon},\n",
      "  journal = {ECSarXiv. February},\n",
      "  volume = {7},\n",
      "  year = {2020},\n",
      "  doi = {10.1149/osf.io/67ckj},\n",
      "}\n",
      "\n",
      "\n",
      "\n"
     ]
    }
   ],
   "source": [
    "pybamm.print_citations(output_format=\"bibtex\")"
   ]
  },
  {
   "cell_type": "markdown",
   "metadata": {},
   "source": [
    "In both cases, you can pass the extra argument `filename` to store the citations into a file."
   ]
  }
 ],
 "metadata": {
  "kernelspec": {
   "display_name": "Python 3 (ipykernel)",
   "language": "python",
   "name": "python3"
  },
  "language_info": {
   "codemirror_mode": {
    "name": "ipython",
    "version": 3
   },
   "file_extension": ".py",
   "mimetype": "text/x-python",
   "name": "python",
   "nbconvert_exporter": "python",
   "pygments_lexer": "ipython3",
   "version": "3.9.0"
  }
 },
 "nbformat": 4,
 "nbformat_minor": 2
}
