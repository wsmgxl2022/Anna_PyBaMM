{
 "cells": [
  {
   "cell_type": "markdown",
   "metadata": {},
   "source": [
    "# Tutorial 4 - Setting parameter values"
   ]
  },
  {
   "cell_type": "markdown",
   "metadata": {},
   "source": [
    "In [Tutorial 1](./Tutorial%201%20-%20How%20to%20run%20a%20model.ipynb) and [Tutorial 2](./Tutorial%202%20-%20Compare%20models.ipynb), we saw how to run a PyBaMM model with all the default settings. However, PyBaMM also allows you to tweak these settings for your application. In this tutorial, we will see how to change the parameters in PyBaMM."
   ]
  },
  {
   "cell_type": "code",
   "execution_count": 1,
   "metadata": {},
   "outputs": [
    {
     "name": "stdout",
     "output_type": "stream",
     "text": [
      "Note: you may need to restart the kernel to use updated packages.\n"
     ]
    }
   ],
   "source": [
    "%pip install pybamm -q    # install PyBaMM if it is not installed\n",
    "import pybamm\n",
    "import os\n",
    "os.chdir(pybamm.__path__[0]+'/..')"
   ]
  },
  {
   "cell_type": "markdown",
   "metadata": {},
   "source": [
    "## Change the whole parameter set"
   ]
  },
  {
   "cell_type": "markdown",
   "metadata": {},
   "source": [
    "PyBaMM has a number of in-built parameter sets (check the list [here](https://pybamm.readthedocs.io/en/latest/source/parameters/parameter_sets.html)), which can be selected doing"
   ]
  },
  {
   "cell_type": "code",
   "execution_count": 2,
   "metadata": {},
   "outputs": [],
   "source": [
    "parameter_values = pybamm.ParameterValues(\"Chen2020\")"
   ]
  },
  {
   "cell_type": "markdown",
   "metadata": {},
   "source": [
    "We can see all the parameters stored in the dictionary"
   ]
  },
  {
   "cell_type": "code",
   "execution_count": 3,
   "metadata": {},
   "outputs": [
    {
     "data": {
      "text/plain": [
       "{'1 + dlnf/dlnc': 1.0,\n",
       " 'Ambient temperature [K]': 298.15,\n",
       " 'Bulk solvent concentration [mol.m-3]': 2636.0,\n",
       " 'Cation transference number': 0.2594,\n",
       " 'Cell cooling surface area [m2]': 0.00531,\n",
       " 'Cell volume [m3]': 2.42e-05,\n",
       " 'Current function [A]': 5.0,\n",
       " 'EC diffusivity [m2.s-1]': 2e-18,\n",
       " 'EC initial concentration in electrolyte [mol.m-3]': 4541.0,\n",
       " 'Electrode height [m]': 0.065,\n",
       " 'Electrode width [m]': 1.58,\n",
       " 'Electrolyte conductivity [S.m-1]': <function electrolyte_conductivity_Nyman2008 at 0x7fb4320d00d0>,\n",
       " 'Electrolyte diffusivity [m2.s-1]': <function electrolyte_diffusivity_Nyman2008 at 0x7fb4320d0040>,\n",
       " 'Initial concentration in electrolyte [mol.m-3]': 1000.0,\n",
       " 'Initial concentration in negative electrode [mol.m-3]': 29866.0,\n",
       " 'Initial concentration in positive electrode [mol.m-3]': 17038.0,\n",
       " 'Initial inner SEI thickness [m]': 2.5e-09,\n",
       " 'Initial outer SEI thickness [m]': 2.5e-09,\n",
       " 'Initial temperature [K]': 298.15,\n",
       " 'Inner SEI electron conductivity [S.m-1]': 8.95e-14,\n",
       " 'Inner SEI lithium interstitial diffusivity [m2.s-1]': 1e-20,\n",
       " 'Inner SEI open-circuit potential [V]': 0.1,\n",
       " 'Inner SEI partial molar volume [m3.mol-1]': 9.585e-05,\n",
       " 'Inner SEI reaction proportion': 0.5,\n",
       " 'Lithium interstitial reference concentration [mol.m-3]': 15.0,\n",
       " 'Lower voltage cut-off [V]': 2.5,\n",
       " 'Maximum concentration in negative electrode [mol.m-3]': 33133.0,\n",
       " 'Maximum concentration in positive electrode [mol.m-3]': 63104.0,\n",
       " 'Negative current collector conductivity [S.m-1]': 58411000.0,\n",
       " 'Negative current collector density [kg.m-3]': 8960.0,\n",
       " 'Negative current collector specific heat capacity [J.kg-1.K-1]': 385.0,\n",
       " 'Negative current collector thermal conductivity [W.m-1.K-1]': 401.0,\n",
       " 'Negative current collector thickness [m]': 1.2e-05,\n",
       " 'Negative electrode Bruggeman coefficient (electrode)': 1.5,\n",
       " 'Negative electrode Bruggeman coefficient (electrolyte)': 1.5,\n",
       " 'Negative electrode OCP [V]': <function graphite_LGM50_ocp_Chen2020 at 0x7fb4204e4b80>,\n",
       " 'Negative electrode OCP entropic change [V.K-1]': 0.0,\n",
       " 'Negative electrode active material volume fraction': 0.75,\n",
       " 'Negative electrode cation signed stoichiometry': -1.0,\n",
       " 'Negative electrode charge transfer coefficient': 0.5,\n",
       " 'Negative electrode conductivity [S.m-1]': 215.0,\n",
       " 'Negative electrode density [kg.m-3]': 1657.0,\n",
       " 'Negative electrode diffusivity [m2.s-1]': 3.3e-14,\n",
       " 'Negative electrode double-layer capacity [F.m-2]': 0.2,\n",
       " 'Negative electrode electrons in reaction': 1.0,\n",
       " 'Negative electrode exchange-current density [A.m-2]': <function graphite_LGM50_electrolyte_exchange_current_density_Chen2020 at 0x7fb432089b80>,\n",
       " 'Negative electrode porosity': 0.25,\n",
       " 'Negative electrode reaction-driven LAM factor [m3.mol-1]': 0.0,\n",
       " 'Negative electrode specific heat capacity [J.kg-1.K-1]': 700.0,\n",
       " 'Negative electrode thermal conductivity [W.m-1.K-1]': 1.7,\n",
       " 'Negative electrode thickness [m]': 8.52e-05,\n",
       " 'Negative particle radius [m]': 5.86e-06,\n",
       " 'Nominal cell capacity [A.h]': 5.0,\n",
       " 'Number of cells connected in series to make a battery': 1.0,\n",
       " 'Number of electrodes connected in parallel to make a cell': 1.0,\n",
       " 'Outer SEI open-circuit potential [V]': 0.8,\n",
       " 'Outer SEI partial molar volume [m3.mol-1]': 9.585e-05,\n",
       " 'Outer SEI solvent diffusivity [m2.s-1]': 2.5000000000000002e-22,\n",
       " 'Positive current collector conductivity [S.m-1]': 36914000.0,\n",
       " 'Positive current collector density [kg.m-3]': 2700.0,\n",
       " 'Positive current collector specific heat capacity [J.kg-1.K-1]': 897.0,\n",
       " 'Positive current collector thermal conductivity [W.m-1.K-1]': 237.0,\n",
       " 'Positive current collector thickness [m]': 1.6e-05,\n",
       " 'Positive electrode Bruggeman coefficient (electrode)': 1.5,\n",
       " 'Positive electrode Bruggeman coefficient (electrolyte)': 1.5,\n",
       " 'Positive electrode OCP [V]': <function nmc_LGM50_ocp_Chen2020 at 0x7fb432089f70>,\n",
       " 'Positive electrode OCP entropic change [V.K-1]': 0.0,\n",
       " 'Positive electrode active material volume fraction': 0.665,\n",
       " 'Positive electrode cation signed stoichiometry': -1.0,\n",
       " 'Positive electrode charge transfer coefficient': 0.5,\n",
       " 'Positive electrode conductivity [S.m-1]': 0.18,\n",
       " 'Positive electrode density [kg.m-3]': 3262.0,\n",
       " 'Positive electrode diffusivity [m2.s-1]': 4e-15,\n",
       " 'Positive electrode double-layer capacity [F.m-2]': 0.2,\n",
       " 'Positive electrode electrons in reaction': 1.0,\n",
       " 'Positive electrode exchange-current density [A.m-2]': <function nmc_LGM50_electrolyte_exchange_current_density_Chen2020 at 0x7fb432089dc0>,\n",
       " 'Positive electrode porosity': 0.335,\n",
       " 'Positive electrode reaction-driven LAM factor [m3.mol-1]': 0.0,\n",
       " 'Positive electrode specific heat capacity [J.kg-1.K-1]': 700.0,\n",
       " 'Positive electrode thermal conductivity [W.m-1.K-1]': 2.1,\n",
       " 'Positive electrode thickness [m]': 7.56e-05,\n",
       " 'Positive particle radius [m]': 5.22e-06,\n",
       " 'Ratio of inner and outer SEI exchange current densities': 1.0,\n",
       " 'Reference temperature [K]': 298.15,\n",
       " 'SEI kinetic rate constant [m.s-1]': 1e-12,\n",
       " 'SEI open-circuit potential [V]': 0.4,\n",
       " 'SEI reaction exchange current density [A.m-2]': 1.5e-07,\n",
       " 'SEI resistivity [Ohm.m]': 200000.0,\n",
       " 'Separator Bruggeman coefficient (electrolyte)': 1.5,\n",
       " 'Separator density [kg.m-3]': 397.0,\n",
       " 'Separator porosity': 0.47,\n",
       " 'Separator specific heat capacity [J.kg-1.K-1]': 700.0,\n",
       " 'Separator thermal conductivity [W.m-1.K-1]': 0.16,\n",
       " 'Separator thickness [m]': 1.2e-05,\n",
       " 'Total heat transfer coefficient [W.m-2.K-1]': 10.0,\n",
       " 'Typical current [A]': 5.0,\n",
       " 'Typical electrolyte concentration [mol.m-3]': 1000.0,\n",
       " 'Upper voltage cut-off [V]': 4.2}"
      ]
     },
     "execution_count": 3,
     "metadata": {},
     "output_type": "execute_result"
    }
   ],
   "source": [
    "parameter_values"
   ]
  },
  {
   "cell_type": "markdown",
   "metadata": {},
   "source": [
    "or we can search for a particular parameter"
   ]
  },
  {
   "cell_type": "code",
   "execution_count": 4,
   "metadata": {},
   "outputs": [
    {
     "name": "stdout",
     "output_type": "stream",
     "text": [
      "EC initial concentration in electrolyte [mol.m-3]\t4541.0\n",
      "Electrolyte conductivity [S.m-1]\t<function electrolyte_conductivity_Nyman2008 at 0x7fb4320d00d0>\n",
      "Electrolyte diffusivity [m2.s-1]\t<function electrolyte_diffusivity_Nyman2008 at 0x7fb4320d0040>\n",
      "Initial concentration in electrolyte [mol.m-3]\t1000.0\n",
      "Negative electrode Bruggeman coefficient (electrolyte)\t1.5\n",
      "Positive electrode Bruggeman coefficient (electrolyte)\t1.5\n",
      "Separator Bruggeman coefficient (electrolyte)\t1.5\n",
      "Typical electrolyte concentration [mol.m-3]\t1000.0\n"
     ]
    }
   ],
   "source": [
    "parameter_values.search(\"electrolyte\")"
   ]
  },
  {
   "cell_type": "markdown",
   "metadata": {},
   "source": [
    "To run a simulation with this parameter set, we can proceed as usual but passing the parameters as a keyword argument"
   ]
  },
  {
   "cell_type": "code",
   "execution_count": 5,
   "metadata": {
    "scrolled": true
   },
   "outputs": [
    {
     "data": {
      "application/vnd.jupyter.widget-view+json": {
       "model_id": "59900e1b574744e4828e53c79375a21d",
       "version_major": 2,
       "version_minor": 0
      },
      "text/plain": [
       "interactive(children=(FloatSlider(value=0.0, description='t', max=3554.1817016731093, step=35.541817016731095)…"
      ]
     },
     "metadata": {},
     "output_type": "display_data"
    },
    {
     "data": {
      "text/plain": [
       "<pybamm.plotting.quick_plot.QuickPlot at 0x7fb432179100>"
      ]
     },
     "execution_count": 5,
     "metadata": {},
     "output_type": "execute_result"
    }
   ],
   "source": [
    "model = pybamm.lithium_ion.DFN()\n",
    "sim = pybamm.Simulation(model, parameter_values=parameter_values)\n",
    "sim.solve([0, 3600])\n",
    "sim.plot()"
   ]
  },
  {
   "cell_type": "markdown",
   "metadata": {},
   "source": [
    "## Change individual components"
   ]
  },
  {
   "cell_type": "markdown",
   "metadata": {},
   "source": [
    "We can replace individual components of the chemistry (such as the electrolyte or positive electrode). Care should be taken when doing so since some parameters may only be valid for certain combinataions of components. To replace an individual component, we first load the `chemistry` from the parameter sets"
   ]
  },
  {
   "cell_type": "code",
   "execution_count": 6,
   "metadata": {},
   "outputs": [],
   "source": [
    "chemistry = pybamm.parameter_sets.Chen2020"
   ]
  },
  {
   "cell_type": "markdown",
   "metadata": {},
   "source": [
    "This variable is a dictionary with the corresponding parameter subsets for each component."
   ]
  },
  {
   "cell_type": "code",
   "execution_count": 7,
   "metadata": {},
   "outputs": [
    {
     "data": {
      "text/plain": [
       "{'chemistry': 'lithium_ion',\n",
       " 'cell': 'LGM50_Chen2020',\n",
       " 'negative electrode': 'graphite_Chen2020',\n",
       " 'separator': 'separator_Chen2020',\n",
       " 'positive electrode': 'nmc_Chen2020',\n",
       " 'electrolyte': 'lipf6_Nyman2008',\n",
       " 'experiment': '1C_discharge_from_full_Chen2020',\n",
       " 'sei': 'example',\n",
       " 'citation': 'Chen2020'}"
      ]
     },
     "execution_count": 7,
     "metadata": {},
     "output_type": "execute_result"
    }
   ],
   "source": [
    "chemistry"
   ]
  },
  {
   "cell_type": "markdown",
   "metadata": {},
   "source": [
    "More details on each subset can be found [here](https://github.com/pybamm-team/PyBaMM/tree/develop/pybamm/input/parameters)."
   ]
  },
  {
   "cell_type": "markdown",
   "metadata": {},
   "source": [
    "For example, we replace the electrolyte component as follows"
   ]
  },
  {
   "cell_type": "code",
   "execution_count": 8,
   "metadata": {},
   "outputs": [],
   "source": [
    "chemistry[\"electrolyte\"] = \"lipf6_Valoen2005\""
   ]
  },
  {
   "cell_type": "markdown",
   "metadata": {},
   "source": [
    "Now we can pass the updated `'chemistry'` into `ParameterValues` to create the dictionary of parameter values"
   ]
  },
  {
   "cell_type": "code",
   "execution_count": 9,
   "metadata": {},
   "outputs": [],
   "source": [
    "parameter_values = pybamm.ParameterValues(chemistry)"
   ]
  },
  {
   "cell_type": "markdown",
   "metadata": {},
   "source": [
    "In this case this only changes the conductivity and diffusivity functions"
   ]
  },
  {
   "cell_type": "code",
   "execution_count": 10,
   "metadata": {},
   "outputs": [
    {
     "name": "stdout",
     "output_type": "stream",
     "text": [
      "EC initial concentration in electrolyte [mol.m-3]\t4541.0\n",
      "Electrolyte conductivity [S.m-1]\t<function electrolyte_conductivity_Valoen2005 at 0x7fb4324f3e50>\n",
      "Electrolyte diffusivity [m2.s-1]\t<function electrolyte_diffusivity_Valoen2005 at 0x7fb432a871f0>\n",
      "Initial concentration in electrolyte [mol.m-3]\t1000.0\n",
      "Negative electrode Bruggeman coefficient (electrolyte)\t1.5\n",
      "Positive electrode Bruggeman coefficient (electrolyte)\t1.5\n",
      "Separator Bruggeman coefficient (electrolyte)\t1.5\n",
      "Typical electrolyte concentration [mol.m-3]\t1000.0\n"
     ]
    }
   ],
   "source": [
    "parameter_values.search(\"electrolyte\")"
   ]
  },
  {
   "cell_type": "markdown",
   "metadata": {},
   "source": [
    "We can run the simulation again with the updated parameters"
   ]
  },
  {
   "cell_type": "code",
   "execution_count": 11,
   "metadata": {},
   "outputs": [
    {
     "data": {
      "application/vnd.jupyter.widget-view+json": {
       "model_id": "e17db80b47e1436a8c3b15f3fd479ad3",
       "version_major": 2,
       "version_minor": 0
      },
      "text/plain": [
       "interactive(children=(FloatSlider(value=0.0, description='t', max=3560.1058147685944, step=35.60105814768595),…"
      ]
     },
     "metadata": {},
     "output_type": "display_data"
    },
    {
     "data": {
      "text/plain": [
       "<pybamm.plotting.quick_plot.QuickPlot at 0x7fb432edefd0>"
      ]
     },
     "execution_count": 11,
     "metadata": {},
     "output_type": "execute_result"
    }
   ],
   "source": [
    "model = pybamm.lithium_ion.DFN()\n",
    "sim = pybamm.Simulation(model, parameter_values=parameter_values)\n",
    "sim.solve([0, 3600])\n",
    "sim.plot()"
   ]
  },
  {
   "cell_type": "markdown",
   "metadata": {},
   "source": [
    "## Change individual parameters"
   ]
  },
  {
   "cell_type": "markdown",
   "metadata": {},
   "source": [
    "We often want to quickly change a small number of parameter values to investigate how the behaviour or the battery changes. In such cases, we can change parameter values without having to leave the notebook or script you are working in. \n",
    "\n",
    "We start initialising the model and the parameter values"
   ]
  },
  {
   "cell_type": "code",
   "execution_count": 12,
   "metadata": {},
   "outputs": [],
   "source": [
    "model = pybamm.lithium_ion.DFN()\n",
    "parameter_values = pybamm.ParameterValues(chemistry=pybamm.parameter_sets.Chen2020)"
   ]
  },
  {
   "cell_type": "markdown",
   "metadata": {},
   "source": [
    "In this example we will change the current to 10 A"
   ]
  },
  {
   "cell_type": "code",
   "execution_count": 13,
   "metadata": {},
   "outputs": [],
   "source": [
    "parameter_values[\"Current function [A]\"] = 10"
   ]
  },
  {
   "cell_type": "markdown",
   "metadata": {},
   "source": [
    "Now we just need to run the simulation with the new parameter values"
   ]
  },
  {
   "cell_type": "code",
   "execution_count": 14,
   "metadata": {},
   "outputs": [
    {
     "data": {
      "application/vnd.jupyter.widget-view+json": {
       "model_id": "87a62972f4a140b199ac8e09a3a261de",
       "version_major": 2,
       "version_minor": 0
      },
      "text/plain": [
       "interactive(children=(FloatSlider(value=0.0, description='t', max=1724.4256164479839, step=17.24425616447984),…"
      ]
     },
     "metadata": {},
     "output_type": "display_data"
    },
    {
     "data": {
      "text/plain": [
       "<pybamm.plotting.quick_plot.QuickPlot at 0x7fb432521070>"
      ]
     },
     "execution_count": 14,
     "metadata": {},
     "output_type": "execute_result"
    }
   ],
   "source": [
    "sim = pybamm.Simulation(model, parameter_values=parameter_values)\n",
    "sim.solve([0, 3600])\n",
    "sim.plot()"
   ]
  },
  {
   "cell_type": "markdown",
   "metadata": {},
   "source": [
    "Note that we still passed the interval `[0, 3600]` to `sim.solve()`, but the simulation terminated early as the lower voltage cut-off was reached."
   ]
  },
  {
   "cell_type": "markdown",
   "metadata": {},
   "source": [
    "### Drive cycle"
   ]
  },
  {
   "cell_type": "markdown",
   "metadata": {},
   "source": [
    "You can implement drive cycles importing the dataset and creating an interpolant to pass as the current function."
   ]
  },
  {
   "cell_type": "code",
   "execution_count": 15,
   "metadata": {},
   "outputs": [],
   "source": [
    "import pandas as pd    # needed to read the csv data file\n",
    "\n",
    "# Import drive cycle from file\n",
    "drive_cycle = pd.read_csv(\"pybamm/input/drive_cycles/US06.csv\", comment=\"#\", header=None).to_numpy()\n",
    "\n",
    "# Create interpolant\n",
    "timescale = parameter_values.evaluate(model.timescale)\n",
    "current_interpolant = pybamm.Interpolant(drive_cycle[:, 0], drive_cycle[:, 1], timescale * pybamm.t)\n",
    "\n",
    "# Set drive cycle\n",
    "parameter_values[\"Current function [A]\"] = current_interpolant"
   ]
  },
  {
   "cell_type": "markdown",
   "metadata": {},
   "source": [
    "Note that your drive cycle data can be stored anywhere, you just need to pass the path of the file. Then, again, the model can be solved as usual but notice that now, if `t_eval` is not specified, the solver will take the time points from the data set."
   ]
  },
  {
   "cell_type": "code",
   "execution_count": 16,
   "metadata": {},
   "outputs": [
    {
     "data": {
      "application/vnd.jupyter.widget-view+json": {
       "model_id": "ee09003547434fb683ea65eb71023f4a",
       "version_major": 2,
       "version_minor": 0
      },
      "text/plain": [
       "interactive(children=(FloatSlider(value=0.0, description='t', max=97.69494263343306, step=0.9769494263343306),…"
      ]
     },
     "metadata": {},
     "output_type": "display_data"
    },
    {
     "data": {
      "text/plain": [
       "<pybamm.plotting.quick_plot.QuickPlot at 0x7fb4323974c0>"
      ]
     },
     "execution_count": 16,
     "metadata": {},
     "output_type": "execute_result"
    }
   ],
   "source": [
    "model = pybamm.lithium_ion.SPMe()\n",
    "sim = pybamm.Simulation(model, parameter_values=parameter_values)\n",
    "sim.solve()\n",
    "sim.plot([\"Current [A]\", \"Terminal voltage [V]\"])"
   ]
  },
  {
   "cell_type": "markdown",
   "metadata": {},
   "source": [
    "### Custom current function"
   ]
  },
  {
   "cell_type": "markdown",
   "metadata": {},
   "source": [
    "Alternatively, we can define the current to be an arbitrary function of time"
   ]
  },
  {
   "cell_type": "code",
   "execution_count": 17,
   "metadata": {},
   "outputs": [],
   "source": [
    "import numpy as np\n",
    "\n",
    "def my_current(t):\n",
    "    return pybamm.sin(2 * np.pi * t / 60)\n",
    "\n",
    "parameter_values[\"Current function [A]\"] = my_current"
   ]
  },
  {
   "cell_type": "markdown",
   "metadata": {},
   "source": [
    "and we can now solve the model again. In this case, we can pass `t_eval` to the solver to make sure we have enough time points to resolve the function in our output."
   ]
  },
  {
   "cell_type": "code",
   "execution_count": 18,
   "metadata": {},
   "outputs": [
    {
     "data": {
      "application/vnd.jupyter.widget-view+json": {
       "model_id": "a1f7e953b7fc460fa000f1db8a6c41d3",
       "version_major": 2,
       "version_minor": 0
      },
      "text/plain": [
       "interactive(children=(FloatSlider(value=0.0, description='t', max=35.8755487989083, step=0.35875548798908297),…"
      ]
     },
     "metadata": {},
     "output_type": "display_data"
    },
    {
     "data": {
      "text/plain": [
       "<pybamm.plotting.quick_plot.QuickPlot at 0x7fb432e5d640>"
      ]
     },
     "execution_count": 18,
     "metadata": {},
     "output_type": "execute_result"
    }
   ],
   "source": [
    "model = pybamm.lithium_ion.SPMe()\n",
    "sim = pybamm.Simulation(model, parameter_values=parameter_values)\n",
    "t_eval = np.arange(0, 121, 1)\n",
    "sim.solve(t_eval=t_eval)\n",
    "sim.plot([\"Current [A]\", \"Terminal voltage [V]\"])"
   ]
  },
  {
   "cell_type": "markdown",
   "metadata": {},
   "source": [
    "In this notebook we have seen how we can change the parameters of our model. In [Tutorial 5](./Tutorial%205%20-%20Run%20experiments.ipynb) we show how can we define and run experiments."
   ]
  },
  {
   "cell_type": "markdown",
   "metadata": {},
   "source": [
    "## References\n",
    "\n",
    "The relevant papers for this notebook are:"
   ]
  },
  {
   "cell_type": "code",
   "execution_count": 19,
   "metadata": {},
   "outputs": [
    {
     "name": "stdout",
     "output_type": "stream",
     "text": [
      "[1] Joel A. E. Andersson, Joris Gillis, Greg Horn, James B. Rawlings, and Moritz Diehl. CasADi – A software framework for nonlinear optimization and optimal control. Mathematical Programming Computation, 11(1):1–36, 2019. doi:10.1007/s12532-018-0139-4.\n",
      "[2] Chang-Hui Chen, Ferran Brosa Planella, Kieran O'Regan, Dominika Gastol, W. Dhammika Widanage, and Emma Kendrick. Development of Experimental Techniques for Parameterization of Multi-scale Lithium-ion Battery Models. Journal of The Electrochemical Society, 167(8):080534, 2020. doi:10.1149/1945-7111/ab9050.\n",
      "[3] Marc Doyle, Thomas F. Fuller, and John Newman. Modeling of galvanostatic charge and discharge of the lithium/polymer/insertion cell. Journal of the Electrochemical society, 140(6):1526–1533, 1993. doi:10.1149/1.2221597.\n",
      "[4] Charles R. Harris, K. Jarrod Millman, Stéfan J. van der Walt, Ralf Gommers, Pauli Virtanen, David Cournapeau, Eric Wieser, Julian Taylor, Sebastian Berg, Nathaniel J. Smith, and others. Array programming with NumPy. Nature, 585(7825):357–362, 2020. doi:10.1038/s41586-020-2649-2.\n",
      "[5] Scott G. Marquis, Valentin Sulzer, Robert Timms, Colin P. Please, and S. Jon Chapman. An asymptotic derivation of a single particle model with electrolyte. Journal of The Electrochemical Society, 166(15):A3693–A3706, 2019. doi:10.1149/2.0341915jes.\n",
      "[6] Valentin Sulzer, Scott G. Marquis, Robert Timms, Martin Robinson, and S. Jon Chapman. Python Battery Mathematical Modelling (PyBaMM). Journal of Open Research Software, 9(1):14, 2021. doi:10.5334/jors.309.\n",
      "\n"
     ]
    }
   ],
   "source": [
    "pybamm.print_citations()"
   ]
  }
 ],
 "metadata": {
  "kernelspec": {
   "display_name": "Python 3 (ipykernel)",
   "language": "python",
   "name": "python3"
  },
  "language_info": {
   "codemirror_mode": {
    "name": "ipython",
    "version": 3
   },
   "file_extension": ".py",
   "mimetype": "text/x-python",
   "name": "python",
   "nbconvert_exporter": "python",
   "pygments_lexer": "ipython3",
   "version": "3.9.0"
  },
  "toc": {
   "base_numbering": 1,
   "nav_menu": {},
   "number_sections": true,
   "sideBar": true,
   "skip_h1_title": false,
   "title_cell": "Table of Contents",
   "title_sidebar": "Contents",
   "toc_cell": false,
   "toc_position": {},
   "toc_section_display": true,
   "toc_window_display": true
  }
 },
 "nbformat": 4,
 "nbformat_minor": 2
}
