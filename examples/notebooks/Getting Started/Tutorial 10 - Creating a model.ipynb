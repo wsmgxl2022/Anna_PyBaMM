{
 "cells": [
  {
   "cell_type": "markdown",
   "id": "ae6ac58d",
   "metadata": {},
   "source": [
    "# Tutorial 10 - Creating a model\n",
    "\n",
    "In [Tutorial 9](./Tutorial%209%20-%20Changing%20the%20mesh.ipynb) we showed how to change the mesh using on of the built-in battery models in PyBaMM. In this tutorial we show how to create a simple model from scratch in PyBaMM.\n",
    "\n",
    "As simple example, we consider the problem of linear diffusion on a unit sphere with a flux at the boundary that depends on the concentration. We solve\n",
    "\\begin{equation*}\n",
    "  \\frac{\\partial c}{\\partial t} = \\nabla \\cdot (\\nabla c),\n",
    "\\end{equation*}\n",
    "with the following boundary and initial conditions:\n",
    "\\begin{equation*}\n",
    "  \\left.\\frac{\\partial c}{\\partial r}\\right\\vert_{r=0} = 0, \\quad \\left.\\frac{\\partial c}{\\partial r}\\right\\vert_{r=1} = -j, \\quad \\left.c\\right\\vert_{t=0} = c_0,\n",
    "\\end{equation*}\n",
    "where\n",
    "\\begin{equation*}\n",
    "j = \\left.j_0(1-c)^{1/2}c^{1/2}\\right\\vert_{r=1}.\n",
    "\\end{equation*}\n",
    "Here $c_0$ and $j_0$ are parameters we can control. In this example we will assume that everything is non-dimensional and focus on how to set up and solve the model rather than any specific physical interpretation."
   ]
  },
  {
   "cell_type": "code",
   "execution_count": 1,
   "id": "7d0ae1c9",
   "metadata": {},
   "outputs": [
    {
     "name": "stdout",
     "output_type": "stream",
     "text": [
      "Note: you may need to restart the kernel to use updated packages.\n"
     ]
    }
   ],
   "source": [
    "%pip install pybamm -q    # install PyBaMM if it is not installed\n",
    "import pybamm"
   ]
  },
  {
   "cell_type": "markdown",
   "id": "f8857ad3",
   "metadata": {},
   "source": [
    "## Setting up the model\n",
    "\n",
    "First we load an empty model. We use the `BaseModel` class that sets up all the basic framework on which our model will be built."
   ]
  },
  {
   "cell_type": "code",
   "execution_count": 2,
   "id": "c9b7e903",
   "metadata": {},
   "outputs": [],
   "source": [
    "model = pybamm.BaseModel()"
   ]
  },
  {
   "cell_type": "markdown",
   "id": "797669c5",
   "metadata": {},
   "source": [
    "We then define our variables and parameters using the `Variable` and `Parameter` classes, respectively. Since we are solving a PDE we need to tell PyBaMM the domain each variable belongs to so that it can be discretised in space in the correct way. This is done by passing the keyword argument `domain`, and in this example we arbitrarily choose the domain \"negative particle\"."
   ]
  },
  {
   "cell_type": "code",
   "execution_count": 3,
   "id": "c39933ef",
   "metadata": {},
   "outputs": [],
   "source": [
    "c = pybamm.Variable(\"Concentration\", domain=\"negative particle\")\n",
    "c0 = pybamm.Parameter(\"Initial concentration\")\n",
    "j0 = pybamm.Parameter(\"Flux parameter\")"
   ]
  },
  {
   "cell_type": "markdown",
   "id": "ddcef414",
   "metadata": {},
   "source": [
    "We then state out governing equations. In PyBaMM we distinguish between Ordinary Differential Equations of the form $dy/dt = \\text{rhs}$ and Algebraic Equations of the form $f(y) = 0$. The model equations are stored in dictionaries where the key is the variable and the value is the rhs for ODEs and the residual ($f(y)$) for algebraic equations.\n",
    "\n",
    "Sometime it is useful to define intermediate quantities in order to express the governing equations more easily. In this example we define the flux, then define the rhs to be minus the divergence of the flux. The equation is then added to the dictionary `model.rhs`"
   ]
  },
  {
   "cell_type": "code",
   "execution_count": 4,
   "id": "58d8fb9a",
   "metadata": {},
   "outputs": [],
   "source": [
    "N = -pybamm.grad(c)  # define the flux\n",
    "dcdt = -pybamm.div(N)  # define the rhs equation\n",
    "\n",
    "model.rhs = {c: dcdt}  # add the equation to rhs dictionary with the variable as the key "
   ]
  },
  {
   "cell_type": "markdown",
   "id": "a960144f",
   "metadata": {},
   "source": [
    "Next we add the necessary boundary and initial conditions to the model. These are also stored in dictionaries called `model.boundary_conditions` and `model.initial_conditions`, respectively. "
   ]
  },
  {
   "cell_type": "code",
   "execution_count": 5,
   "id": "90d08a1a",
   "metadata": {},
   "outputs": [],
   "source": [
    "# boundary conditions \n",
    "c_surf = pybamm.surf(c)  # concentration at the surface of the sphere\n",
    "j = j0 * (1 - c_surf) ** (1 / 2) * c_surf ** (1 / 2)  # prescribed boundary flux\n",
    "model.boundary_conditions = {c: {\"left\": (0, \"Neumann\"), \"right\": (-j, \"Neumann\")}}\n",
    "\n",
    "# initial conditions \n",
    "model.initial_conditions = {c: c0}"
   ]
  },
  {
   "cell_type": "markdown",
   "id": "e44314d3",
   "metadata": {},
   "source": [
    "We can add any variables of interest to the dictionary `model.variables`. These can simply be the variables we solve for (in this case $c$) or any other user-defined quantities."
   ]
  },
  {
   "cell_type": "code",
   "execution_count": 6,
   "id": "178b5b86",
   "metadata": {},
   "outputs": [],
   "source": [
    "model.variables = {\n",
    "    \"Concentration\": c,\n",
    "    \"Surface concentration\": c_surf,\n",
    "    \"Flux\": N,\n",
    "    \"Boundary flux\": j,\n",
    "}"
   ]
  },
  {
   "cell_type": "markdown",
   "id": "c7f5ff5f",
   "metadata": {},
   "source": [
    "## Setting up the geometry and mesh\n",
    "\n",
    "In order to solve the model we need to define the geometry and choose how we are going to discretise the equations in space. We first define our radial coordinate using `pybamm.SpatialVariable`. When we define our spatial variable we pass in a name, the domain on which the variable lives, and the coordinate system we want to use."
   ]
  },
  {
   "cell_type": "code",
   "execution_count": 7,
   "id": "43ca8e55",
   "metadata": {},
   "outputs": [],
   "source": [
    "r = pybamm.SpatialVariable(\"r\", domain=[\"negative particle\"], coord_sys=\"spherical polar\")"
   ]
  },
  {
   "cell_type": "markdown",
   "id": "f80a28ec",
   "metadata": {},
   "source": [
    "We can then define our geometry using a dictionary. The key is the name of the domain, and the value is another dictionary which gives the coordinate to use and the limits. In this case we solve on a unit sphere, so we pass out `SpatialVariable`, `r`, and the limit 0 and 1."
   ]
  },
  {
   "cell_type": "code",
   "execution_count": 8,
   "id": "afd31667",
   "metadata": {},
   "outputs": [],
   "source": [
    "geometry = {\"negative particle\": {r: {\"min\": 0, \"max\": 1}}}"
   ]
  },
  {
   "cell_type": "markdown",
   "id": "3506afa3",
   "metadata": {},
   "source": [
    "Finally we choose how we are going to discretise in space. We choose to use the Finite Volume method on a uniform mesh with 20 volumes."
   ]
  },
  {
   "cell_type": "code",
   "execution_count": 9,
   "id": "a2b157f0",
   "metadata": {},
   "outputs": [],
   "source": [
    "spatial_methods = {\"negative particle\": pybamm.FiniteVolume()}\n",
    "submesh_types = {\"negative particle\": pybamm.Uniform1DSubMesh}\n",
    "var_pts = {r: 20}\n",
    "# create a mesh of our geometry, using a uniform grid with 20 volumes\n",
    "mesh = pybamm.Mesh(geometry, submesh_types, var_pts) "
   ]
  },
  {
   "cell_type": "markdown",
   "id": "e56c1f46",
   "metadata": {},
   "source": [
    "## Solving the model\n",
    "\n",
    "Now we are ready to solve the model. First we need to provide values for the parameters in our model. We do this by passing a dictionary of parameter names and values to the `pybamm.ParameterValues` class."
   ]
  },
  {
   "cell_type": "code",
   "execution_count": 10,
   "id": "c598b5b9",
   "metadata": {},
   "outputs": [],
   "source": [
    "parameter_values = pybamm.ParameterValues({\n",
    "    \"Initial concentration\": 0.9,\n",
    "    \"Flux parameter\": 0.8,\n",
    "})"
   ]
  },
  {
   "cell_type": "markdown",
   "id": "0ff5f14f",
   "metadata": {},
   "source": [
    "Next we choose a solver. Since this is a system of ODEs we can use the `ScipySolver` which uses a Runge-Kutta scheme by default."
   ]
  },
  {
   "cell_type": "code",
   "execution_count": 11,
   "id": "1a23e584",
   "metadata": {},
   "outputs": [],
   "source": [
    "solver = pybamm.ScipySolver()"
   ]
  },
  {
   "cell_type": "markdown",
   "id": "2f3e3555",
   "metadata": {},
   "source": [
    "We can then create a simulation by passing information about the model, geometry, parameters, discretisation and solver to the `pybamm.Simulation` class."
   ]
  },
  {
   "cell_type": "code",
   "execution_count": 12,
   "id": "cbb62ede",
   "metadata": {},
   "outputs": [],
   "source": [
    "sim = pybamm.Simulation(\n",
    "        model,\n",
    "        geometry=geometry,\n",
    "        parameter_values=parameter_values,\n",
    "        submesh_types=submesh_types,\n",
    "        var_pts=var_pts,\n",
    "        spatial_methods=spatial_methods,\n",
    "        solver=solver,\n",
    ")"
   ]
  },
  {
   "cell_type": "markdown",
   "id": "0131eb76",
   "metadata": {},
   "source": [
    "Finally we can solve the model"
   ]
  },
  {
   "cell_type": "code",
   "execution_count": 13,
   "id": "6855600b",
   "metadata": {},
   "outputs": [
    {
     "data": {
      "text/plain": [
       "<pybamm.solvers.solution.Solution at 0x7f41afa86b20>"
      ]
     },
     "execution_count": 13,
     "metadata": {},
     "output_type": "execute_result"
    }
   ],
   "source": [
    "sim.solve([0, 1])  # solve up to a dimensionless time of 1"
   ]
  },
  {
   "cell_type": "markdown",
   "id": "db7fb57c",
   "metadata": {},
   "source": [
    "The easiest way to quickly plot the results is to call `sim.plot` to create a slider plot. \n",
    "\n",
    "Note that at present the `plot` method is set up to plot dimensional results from battery simulations, so the labels include units which can be ignored (the model assumes a default length scale of 1m and default time scale of 1s). Alternatively we could extract the solution data as seen in [Tutorial 6](./Tutorial%206%20-%20Managing%20simulation%20outputs.ipynb) and create the plots manually. You can find out more about customising plots in [this notebook](../customize-quick-plot.ipynb)."
   ]
  },
  {
   "cell_type": "code",
   "execution_count": 14,
   "id": "4500bbcf",
   "metadata": {},
   "outputs": [
    {
     "name": "stderr",
     "output_type": "stream",
     "text": [
      "2022-07-11 13:21:23.957 - [WARNING] processed_variable.get_spatial_scale(521): No length scale set for negative particle. Using default of 1 [m].\n",
      "2022-07-11 13:21:23.975 - [WARNING] processed_variable.get_spatial_scale(521): No length scale set for negative particle. Using default of 1 [m].\n"
     ]
    },
    {
     "data": {
      "application/vnd.jupyter.widget-view+json": {
       "model_id": "9c90fa70ce00427996365547ef9d1ba2",
       "version_major": 2,
       "version_minor": 0
      },
      "text/plain": [
       "interactive(children=(FloatSlider(value=0.0, description='t', max=1.0, step=0.01), Output()), _dom_classes=('w…"
      ]
     },
     "metadata": {},
     "output_type": "display_data"
    },
    {
     "data": {
      "text/plain": [
       "<pybamm.plotting.quick_plot.QuickPlot at 0x7f41afa9a9d0>"
      ]
     },
     "execution_count": 14,
     "metadata": {},
     "output_type": "execute_result"
    }
   ],
   "source": [
    "# pass in a list of the variables we want to plot \n",
    "sim.plot([\"Concentration\", \"Surface concentration\", \"Flux\", \"Boundary flux\"])  "
   ]
  },
  {
   "cell_type": "markdown",
   "id": "44f9b7ed",
   "metadata": {},
   "source": [
    "Here we have seen how to create a basic model from scratch in PyBaMM. \n",
    "In the [next tutorial](./Tutorial%2011%20-%20Creating%20a%20submodel.ipynb) we will see how to split this model up into separate submodels."
   ]
  },
  {
   "cell_type": "markdown",
   "id": "f73eb971",
   "metadata": {},
   "source": [
    "## References\n",
    "\n",
    "The relevant papers for this notebook are:"
   ]
  },
  {
   "cell_type": "code",
   "execution_count": 15,
   "id": "84a906b6",
   "metadata": {},
   "outputs": [
    {
     "name": "stdout",
     "output_type": "stream",
     "text": [
      "[1] Joel A. E. Andersson, Joris Gillis, Greg Horn, James B. Rawlings, and Moritz Diehl. CasADi – A software framework for nonlinear optimization and optimal control. Mathematical Programming Computation, 11(1):1–36, 2019. doi:10.1007/s12532-018-0139-4.\n",
      "[2] Charles R. Harris, K. Jarrod Millman, Stéfan J. van der Walt, Ralf Gommers, Pauli Virtanen, David Cournapeau, Eric Wieser, Julian Taylor, Sebastian Berg, Nathaniel J. Smith, and others. Array programming with NumPy. Nature, 585(7825):357–362, 2020. doi:10.1038/s41586-020-2649-2.\n",
      "[3] Valentin Sulzer, Scott G. Marquis, Robert Timms, Martin Robinson, and S. Jon Chapman. Python Battery Mathematical Modelling (PyBaMM). Journal of Open Research Software, 9(1):14, 2021. doi:10.5334/jors.309.\n",
      "[4] Pauli Virtanen, Ralf Gommers, Travis E. Oliphant, Matt Haberland, Tyler Reddy, David Cournapeau, Evgeni Burovski, Pearu Peterson, Warren Weckesser, Jonathan Bright, and others. SciPy 1.0: fundamental algorithms for scientific computing in Python. Nature Methods, 17(3):261–272, 2020. doi:10.1038/s41592-019-0686-2.\n",
      "\n"
     ]
    }
   ],
   "source": [
    "pybamm.print_citations()"
   ]
  }
 ],
 "metadata": {
  "kernelspec": {
   "display_name": "Python 3",
   "language": "python",
   "name": "python3"
  },
  "language_info": {
   "codemirror_mode": {
    "name": "ipython",
    "version": 3
   },
   "file_extension": ".py",
   "mimetype": "text/x-python",
   "name": "python",
   "nbconvert_exporter": "python",
   "pygments_lexer": "ipython3",
   "version": "3.8.13"
  }
 },
 "nbformat": 4,
 "nbformat_minor": 5
}
