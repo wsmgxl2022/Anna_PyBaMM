{
    "cells": [
        {
            "cell_type": "markdown",
            "metadata": {},
            "source": [
                "# Electrode State of Health"
            ]
        },
        {
            "cell_type": "markdown",
            "metadata": {},
            "source": [
                "This notebook demonstrates some utilities to work with electrode State of Health (also sometimes called electrode stoichiometry), using the algorithm from Mohtat et al [1]\n",
                "\n",
                "[1] Mohtat, P., Lee, S., Siegel, J. B., & Stefanopoulou, A. G. (2019). Towards better estimability of electrode-specific state of health: Decoding the cell expansion. Journal of Power Sources, 427, 101-111."
            ]
        },
        {
            "cell_type": "code",
            "execution_count": 1,
            "metadata": {},
            "outputs": [
                {
                    "name": "stdout",
                    "output_type": "stream",
                    "text": [
                        "Note: you may need to restart the kernel to use updated packages.\n"
                    ]
                }
            ],
            "source": [
                "%pip install pybamm -q # install PyBaMM if it is not installed\n",
                "import pybamm\n",
                "import matplotlib.pyplot as plt\n",
                "import numpy as np"
            ]
        },
        {
            "cell_type": "markdown",
            "metadata": {},
            "source": [
                "## Create and solve model"
            ]
        },
        {
            "cell_type": "code",
            "execution_count": 2,
            "metadata": {},
            "outputs": [
                {
                    "data": {
                        "application/vnd.jupyter.widget-view+json": {
                            "model_id": "34d757993a5247958345757ac4f7cbef",
                            "version_major": 2,
                            "version_minor": 0
                        },
                        "text/plain": [
                            "interactive(children=(FloatSlider(value=0.0, description='t', max=2.324842225325321, step=0.023248422253253208…"
                        ]
                    },
                    "metadata": {},
                    "output_type": "display_data"
                },
                {
                    "data": {
                        "text/plain": [
                            "<pybamm.plotting.quick_plot.QuickPlot at 0x7fac51ea9fd0>"
                        ]
                    },
                    "execution_count": 2,
                    "metadata": {},
                    "output_type": "execute_result"
                }
            ],
            "source": [
                "spm = pybamm.lithium_ion.SPM()\n",
                "experiment = pybamm.Experiment([\n",
                "    \"Charge at 1C until 4.2V\", \n",
                "    \"Hold at 4.2V until C/50\",\n",
                "    \"Discharge at 1C until 2.8V\",\n",
                "    \"Hold at 2.8V until C/50\",\n",
                "])\n",
                "parameter_values = pybamm.ParameterValues(\"Mohtat2020\")\n",
                "\n",
                "sim = pybamm.Simulation(spm, experiment=experiment, parameter_values=parameter_values)\n",
                "spm_sol = sim.solve()\n",
                "spm_sol.plot([\n",
                "    \"Terminal voltage [V]\", \n",
                "    \"Current [A]\", \n",
                "    \"Negative electrode SOC\",\n",
                "    \"Positive electrode SOC\",\n",
                "])"
            ]
        },
        {
            "cell_type": "markdown",
            "metadata": {},
            "source": [
                "## Solve for electrode SOH variables"
            ]
        },
        {
            "cell_type": "markdown",
            "metadata": {},
            "source": [
                "Given a total amount of lithium, $n_{Li}$, electrode capacities, $C_n$ and $C_p$, and voltage limits, $V_{min}$ and $V_{max}$, we can solve for the min and max electrode SOCs, $x_0$, $x_{100}$, $y_0$, and $y_{100}$,  and the cell capacity, $C$, using the algorithm from Mohtat et al [1].\n",
                "First, we find $x_{100}$ and $y_{100}$ using\n",
                "$$\n",
                "\\begin{align}\n",
                "n_{Li} &= \\frac{3600}{F}(y_{100}C_p + x_{100}C_n),\n",
                "\\\\\n",
                "V_{max} &= U_p(y_{100}) - U_n(x_{100}).\n",
                "\\end{align}\n",
                "$$\n",
                "Then, we find $C$ using\n",
                "$$\n",
                "\\begin{align}\n",
                "V_{min} &= U_p(y_{0}) - U_n(x_{0})\n",
                "\\\\\n",
                "&= U_p\\left(y_{100} + \\frac{C}{C_p}\\right) - U_n\\left(x_{100} - \\frac{C}{C_n}\\right)\n",
                "\\end{align}\n",
                "$$\n",
                "Finally, $x_0$ and $y_0$ are simply defined as\n",
                "$$\n",
                "\\begin{align}\n",
                "x_0 &= x_{100} - \\frac{C}{C_n},\n",
                "\\\\\n",
                "y_0 &= y_{100} + \\frac{C}{C_p}.\n",
                "\\end{align}\n",
                "$$\n",
                "We implement this in pybamm as an algebraic model."
            ]
        },
        {
            "cell_type": "code",
            "execution_count": 3,
            "metadata": {},
            "outputs": [],
            "source": [
                "param = pybamm.LithiumIonParameters()\n",
                "\n",
                "Vmin = 2.8\n",
                "Vmax = 4.2\n",
                "Cn = parameter_values.evaluate(param.n.cap_init)\n",
                "Cp = parameter_values.evaluate(param.p.cap_init)\n",
                "n_Li = parameter_values.evaluate(param.n_Li_particles_init)\n",
                "\n",
                "Un = param.n.prim.U_dimensional\n",
                "Up = param.p.prim.U_dimensional\n",
                "T_ref = param.T_ref"
            ]
        },
        {
            "cell_type": "code",
            "execution_count": 4,
            "metadata": {},
            "outputs": [
                {
                    "name": "stdout",
                    "output_type": "stream",
                    "text": [
                        "x_100 : 0.8333742766485523\n",
                        "y_100 : 0.03354554691530909\n",
                        "C : 4.968932681948703\n",
                        "x_0 : 0.0015118456450780027\n",
                        "y_0 : 0.8908948800910447\n"
                    ]
                }
            ],
            "source": [
                "# First we solve for x_100 and y_100\n",
                "\n",
                "model = pybamm.BaseModel()\n",
                "\n",
                "x_100 = pybamm.Variable(\"x_100\")\n",
                "y_100 = (n_Li * param.F / 3600 - x_100 * Cn) / Cp\n",
                "\n",
                "y_100_min = 1e-10\n",
                "\n",
                "x_100_upper_limit = ((n_Li * param.F) / 3600 - y_100_min*Cp)/Cn\n",
                "\n",
                "if not isinstance(x_100_upper_limit, float):\n",
                "    x_100_upper_limit = x_100_upper_limit.value\n",
                "    \n",
                "x_100_upper_limit = min(x_100_upper_limit, 1-1e-10)\n",
                "\n",
                "\n",
                "Vmax_init = parameter_values.evaluate(Up(y_100_min, T_ref)) - parameter_values.evaluate(Un(x_100_upper_limit, T_ref))\n",
                "Vmin_init = parameter_values.evaluate(Up(y_100_min + 1, T_ref)) - parameter_values.evaluate(Un(x_100_upper_limit - Cp/Cn, T_ref))\n",
                "\n",
                "\n",
                "if isinstance(parameter_values[\"Positive electrode OCP [V]\"], tuple):\n",
                "    # if data is provided for the Positive (or Negative) electrode OCP [V] \n",
                "    # the intial conditions must be within the bounds of this data to prevent extrapolation errors\n",
                "    y_100_min = np.min(parameter_values[\"Positive electrode OCP [V]\"][1][1])\n",
                "    x_100_upper_limit = (n_Li * pybamm.constants.F.value / 3600 - y_100_min * Cp) / Cn\n",
                "\n",
                "    V_lower_bound = min(parameter_values[\"Positive electrode OCP [V]\"][1][1]) - parameter_values[\"Negative electrode OCP [V]\"](x_100_upper_limit).evaluate()\n",
                "    V_upper_bound = max(parameter_values[\"Positive electrode OCP [V]\"][1][1]) - parameter_values[\"Negative electrode OCP [V]\"](x_100_upper_limit).evaluate()\n",
                "\n",
                "    if Vmin_init[0][0] < V_lower_bound:\n",
                "        raise(ValueError(\"Initial voltage is outside bounds of OCP data in parameter set. Revise initial values.\"))\n",
                "\n",
                "    if Vmax_init[0][0] > V_upper_bound:\n",
                "        raise(ValueError(\"Initial voltage is outside bounds of OCP data in parameter set. Revise initial values.\"))\n",
                "\n",
                "\n",
                "model.algebraic = {\n",
                "    x_100: Up(y_100, T_ref) - Un(x_100, T_ref) - Vmax + 1e5*(y_100<0) + 1e5*(x_100>1),\n",
                "}\n",
                "    \n",
                "model.initial_conditions = {\n",
                "    x_100: x_100_upper_limit\n",
                "}\n",
                "\n",
                "model.variables = {\n",
                "    \"x_100\": x_100,\n",
                "    \"y_100\": y_100\n",
                "}\n",
                "\n",
                "\n",
                "sim = pybamm.Simulation(model, parameter_values=parameter_values)\n",
                "\n",
                "sol = sim.solve([0])\n",
                "\n",
                "x_100 = sol[\"x_100\"].data[0]\n",
                "y_100 = sol[\"y_100\"].data[0]\n",
                "\n",
                "for var in [\"x_100\", \"y_100\"]:\n",
                "    print(var, \":\", sol[var].data[0])\n",
                "\n",
                "# Based on the calculated values for x_100 and y_100 we solve for C\n",
                "model = pybamm.BaseModel()\n",
                "\n",
                "C = pybamm.Variable(\"C\")\n",
                "x_0 = x_100 - C/Cn\n",
                "y_0 = y_100 + C/Cp\n",
                "\n",
                "model.algebraic = {\n",
                "    C: Up(y_0, T_ref) - Un(x_0, T_ref) - Vmin\n",
                "}\n",
                "\n",
                "model.initial_conditions = {C: pybamm.minimum(Cn * x_100 - 0.1, param.Q)}\n",
                "\n",
                "model.variables = {\n",
                "    \"C\": C,\n",
                "    \"x_0\": x_0,\n",
                "    \"y_0\": y_0,\n",
                "}\n",
                "\n",
                "sim = pybamm.Simulation(model, parameter_values=parameter_values)\n",
                "sol = sim.solve([0])\n",
                "\n",
                "\n",
                "for var in [\"C\", \"x_0\", \"y_0\"]:\n",
                "    print(var, \":\", sol[var].data[0])"
            ]
        },
        {
            "cell_type": "markdown",
            "metadata": {},
            "source": [
                "This is implemented in PyBaMM as the `ElectrodeSOHSolver` class"
            ]
        },
        {
            "cell_type": "code",
            "execution_count": 5,
            "metadata": {},
            "outputs": [
                {
                    "name": "stdout",
                    "output_type": "stream",
                    "text": [
                        "x_100 : 0.8333742762029208\n",
                        "y_100 : 0.03354554737459422\n",
                        "C : 4.968932679279893\n",
                        "x_0 : 0.0015118456462391069\n",
                        "y_0 : 0.8908948800898481\n"
                    ]
                }
            ],
            "source": [
                "esoh_solver = pybamm.lithium_ion.ElectrodeSOHSolver(parameter_values, param)\n",
                "\n",
                "inputs={ \"V_min\": Vmin, \"V_max\": Vmax, \"C_n\": Cn, \"C_p\": Cp, \"n_Li\": n_Li}\n",
                "\n",
                "esoh_sol = esoh_solver.solve(inputs)\n",
                "\n",
                "for var in [\"x_100\", \"y_100\", \"C\", \"x_0\", \"y_0\"]:\n",
                "    print(var, \":\", esoh_sol[var].data[0])"
            ]
        },
        {
            "cell_type": "markdown",
            "metadata": {},
            "source": [
                "## Check against simulations"
            ]
        },
        {
            "cell_type": "markdown",
            "metadata": {},
            "source": [
                "Plotting the SPM simulations against the eSOH calculations validates the min/max stoichiometry calculations"
            ]
        },
        {
            "cell_type": "code",
            "execution_count": 6,
            "metadata": {},
            "outputs": [
                {
                    "data": {
                        "image/png": "[encoded data removed]",
                        "text/plain": [
                            "<Figure size 432x288 with 2 Axes>"
                        ]
                    },
                    "metadata": {
                        "needs_background": "light"
                    },
                    "output_type": "display_data"
                }
            ],
            "source": [
                "t = spm_sol[\"Time [h]\"].data\n",
                "x_spm = spm_sol[\"Negative electrode SOC\"].data\n",
                "y_spm = spm_sol[\"Positive electrode SOC\"].data\n",
                "\n",
                "x_0 = esoh_sol[\"x_0\"].data * np.ones_like(t)\n",
                "y_0 = esoh_sol[\"y_0\"].data * np.ones_like(t)\n",
                "x_100 = esoh_sol[\"x_100\"].data * np.ones_like(t)\n",
                "y_100 = esoh_sol[\"y_100\"].data * np.ones_like(t)\n",
                "\n",
                "fig, axes = plt.subplots(1,2)\n",
                "\n",
                "axes[0].plot(t, x_spm, \"b\")\n",
                "axes[0].plot(t, x_0, \"k:\")\n",
                "axes[0].plot(t, x_100, \"k:\")\n",
                "axes[0].set_ylabel(\"x\")\n",
                "    \n",
                "axes[1].plot(t, y_spm, \"r\")\n",
                "axes[1].plot(t, y_0, \"k:\")\n",
                "axes[1].plot(t, y_100, \"k:\")\n",
                "axes[1].set_ylabel(\"y\")\n",
                "    \n",
                "for k in range(2):\n",
                "    axes[k].set_xlim([t[0],t[-1]])\n",
                "    axes[k].set_ylim([0,1])    \n",
                "    axes[k].set_xlabel(\"Time [h]\")\n",
                "    \n",
                "fig.tight_layout()\n"
            ]
        },
        {
            "cell_type": "markdown",
            "metadata": {},
            "source": [
                "## References\n",
                "\n",
                "The relevant papers for this notebook are:"
            ]
        },
        {
            "cell_type": "code",
            "execution_count": 7,
            "metadata": {},
            "outputs": [
                {
                    "name": "stdout",
                    "output_type": "stream",
                    "text": [
                        "[1] Weilong Ai, Ludwig Kraft, Johannes Sturm, Andreas Jossen, and Billy Wu. Electrochemical thermal-mechanical modelling of stress inhomogeneity in lithium-ion pouch cells. Journal of The Electrochemical Society, 167(1):013512, 2019. doi:10.1149/2.0122001JES.\n",
                        "[2] Joel A. E. Andersson, Joris Gillis, Greg Horn, James B. Rawlings, and Moritz Diehl. CasADi – A software framework for nonlinear optimization and optimal control. Mathematical Programming Computation, 11(1):1–36, 2019. doi:10.1007/s12532-018-0139-4.\n",
                        "[3] Rutooj Deshpande, Mark Verbrugge, Yang-Tse Cheng, John Wang, and Ping Liu. Battery cycle life prediction with coupled chemical degradation and fatigue mechanics. Journal of the Electrochemical Society, 159(10):A1730, 2012. doi:10.1149/2.049210jes.\n",
                        "[4] Charles R. Harris, K. Jarrod Millman, Stéfan J. van der Walt, Ralf Gommers, Pauli Virtanen, David Cournapeau, Eric Wieser, Julian Taylor, Sebastian Berg, Nathaniel J. Smith, and others. Array programming with NumPy. Nature, 585(7825):357–362, 2020. doi:10.1038/s41586-020-2649-2.\n",
                        "[5] Scott G. Marquis, Valentin Sulzer, Robert Timms, Colin P. Please, and S. Jon Chapman. An asymptotic derivation of a single particle model with electrolyte. Journal of The Electrochemical Society, 166(15):A3693–A3706, 2019. doi:10.1149/2.0341915jes.\n",
                        "[6] Peyman Mohtat, Suhak Lee, Jason B Siegel, and Anna G Stefanopoulou. Towards better estimability of electrode-specific state of health: decoding the cell expansion. Journal of Power Sources, 427:101–111, 2019.\n",
                        "[7] Peyman Mohtat, Suhak Lee, Valentin Sulzer, Jason B. Siegel, and Anna G. Stefanopoulou. Differential Expansion and Voltage Model for Li-ion Batteries at Practical Charging Rates. Journal of The Electrochemical Society, 167(11):110561, 2020. doi:10.1149/1945-7111/aba5d1.\n",
                        "[8] Valentin Sulzer, Scott G. Marquis, Robert Timms, Martin Robinson, and S. Jon Chapman. Python Battery Mathematical Modelling (PyBaMM). Journal of Open Research Software, 9(1):14, 2021. doi:10.5334/jors.309.\n",
                        "[9] Pauli Virtanen, Ralf Gommers, Travis E. Oliphant, Matt Haberland, Tyler Reddy, David Cournapeau, Evgeni Burovski, Pearu Peterson, Warren Weckesser, Jonathan Bright, and others. SciPy 1.0: fundamental algorithms for scientific computing in Python. Nature Methods, 17(3):261–272, 2020. doi:10.1038/s41592-019-0686-2.\n",
                        "\n"
                    ]
                }
            ],
            "source": [
                "pybamm.print_citations()"
            ]
        }
    ],
    "metadata": {
        "kernelspec": {
            "display_name": "Python 3.8.12 ('conda_jl')",
            "language": "python",
            "name": "python3"
        },
        "language_info": {
            "codemirror_mode": {
                "name": "ipython",
                "version": 3
            },
            "file_extension": ".py",
            "mimetype": "text/x-python",
            "name": "python",
            "nbconvert_exporter": "python",
            "pygments_lexer": "ipython3",
            "version": "3.8.12"
        },
        "toc": {
            "base_numbering": 1,
            "nav_menu": {},
            "number_sections": true,
            "sideBar": true,
            "skip_h1_title": false,
            "title_cell": "Table of Contents",
            "title_sidebar": "Contents",
            "toc_cell": false,
            "toc_position": {},
            "toc_section_display": true,
            "toc_window_display": true
        },
        "vscode": {
            "interpreter": {
                "hash": "612adcc456652826e82b485a1edaef831aa6d5abc680d008e93d513dd8724f14"
            }
        }
    },
    "nbformat": 4,
    "nbformat_minor": 4
}
