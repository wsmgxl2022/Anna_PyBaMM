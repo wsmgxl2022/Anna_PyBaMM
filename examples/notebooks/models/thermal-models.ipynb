{
 "cells": [
  {
   "cell_type": "markdown",
   "metadata": {},
   "source": [
    "# Thermal models\n",
    "\n",
    "There are a number of thermal submodels available in PyBaMM. In this notebook we give details of each of the models, and highlight any relevant parameters. At present PyBaMM includes a lumped thermal model, a 1D thermal model which accounts for the through-cell variation in temperature, and a 2D pouch cell model which assumed the temperature is uniform through the thickness of the pouch, but accounts for variations in temperature in the remaining two dimensions. Here we give the governing equations for each model. \n",
    "\n",
    "A more comprehensive review of the pouch cell models can be found in [[4]](#References), [[6]](#References)."
   ]
  },
  {
   "cell_type": "code",
   "execution_count": 1,
   "metadata": {},
   "outputs": [
    {
     "name": "stdout",
     "output_type": "stream",
     "text": [
      "Note: you may need to restart the kernel to use updated packages.\n"
     ]
    }
   ],
   "source": [
    "%pip install pybamm -q    # install PyBaMM if it is not installed\n",
    "import pybamm"
   ]
  },
  {
   "cell_type": "markdown",
   "metadata": {},
   "source": [
    "## Lumped models\n",
    "\n",
    "The lumped thermal model solves the following ordinary differential equation for the average temperature, given here in dimensional terms,\n",
    "\n",
    "$$\\rho_{eff} \\frac{\\partial T}{\\partial t} = \\bar{Q} - \\frac{hA}{V}(T-T_{\\infty}),$$\n",
    "\n",
    "where $\\rho_{eff}$ is effective volumetric heat capacity, $T$ is the temperature, $t$ is time, $\\bar{Q}$ is the averaged heat source term, $h$ is the heat transfer coefficient, $A$ is the surface area (available for cooling), $V$ is the cell volume, and $T_{\\infty}$ is the ambient temperature. An initial temperature $T_0$ must be prescribed.\n",
    "\n",
    "\n",
    "The effective volumetric heat capacity is computed as \n",
    "\n",
    "$$ \\rho_{eff} = \\frac{\\sum_k \\rho_k c_{p,k} L_k}{\\sum_k L_k},$$\n",
    "\n",
    "where $\\rho_k$ is the density, $c_{p,k}$ is the specific heat, and $L_k$ is the thickness of each component. The subscript $k \\in \\{cn, n, s, p, cp\\}$ is used to refer to the components negative current collector, negative electrode, separator, positive electrode, and positive current collector.\n",
    "\n",
    "The heat source term accounts for Ohmic heating $Q_{Ohm,k}$ due to resistance in the solid and electrolyte, irreverisble heating due to electrochemical reactions $Q_{rxn,k}$, and reversible heating due to entropic changes in the the electrode $Q_{rev,k}$:\n",
    "\n",
    "$$ Q = Q_{Ohm,k}+Q_{rxn,k}+Q_{rev,k}, $$\n",
    "\n",
    "with \n",
    "$$ Q_{Ohm,k} = -i_k \\nabla \\phi_k, \\quad Q_{rxn,k} = a_k j_k \\eta_k, \\quad Q_{rev,k} = a_k j_k T_k \\frac{\\partial U}{\\partial T} \\bigg|_{T=T_{\\infty}}.$$\n",
    "Here $i_k$ is the current, $\\phi_k$ the potential, $a_k$ the surface area to volume ratio, $j_k$ the interfacial current density, $\\eta_k$ the overpotential, and $U$ the open circuit potential. The averaged heat source term $\\bar{Q}$ is computed by taking the volume-average of $Q$."
   ]
  },
  {
   "cell_type": "markdown",
   "metadata": {},
   "source": [
    "There are two lumped thermal options in PyBaMM: \"lumped\" and \"x-lumped\". Both models solve the same equation, but the term corresponding to heat loss is computed differently."
   ]
  },
  {
   "cell_type": "markdown",
   "metadata": {},
   "source": [
    "### \"x-lumped\" option\n",
    "The \"x-lumped\" model assumes a pouch cell geometry in order to compute the overall heat transfer coefficient $h$, surface area $A$, and volume $V$. This model allows the user to select a different heat transfer coefficient on different surfaces of the cell. PyBaMM then automatically computes the overall heat transfer coefficient (see [[1]](#ref), [[2]](#ref2) for details). The parameters used to set the heat transfer coefficients are:\n",
    "\n",
    "\"Negative current collector surface heat transfer coefficient [W.m-2.K-1]\"  \n",
    "\"Positive current collector surface heat transfer coefficient [W.m-2.K-1]\"  \n",
    "\"Negative tab heat transfer coefficient [W.m-2.K-1]\"  \n",
    "\"Positive tab heat transfer coefficient [W.m-2.K-1]\"  \n",
    "\"Edge heat transfer coefficient [W.m-2.K-1]\"  \n",
    "\n",
    "and correspond to heat transfer at the large surface of the pouch on the side of the negative current collector, heat transfer at the large surface of the pouch on the side of the positive current collector, heat transfer at the negative tab, heat transfer at the positive tab, and heat transfer at the remaining surfaces.\n",
    "\n",
    "The \"x-lumped\" option can be selected as follows"
   ]
  },
  {
   "cell_type": "code",
   "execution_count": 2,
   "metadata": {},
   "outputs": [],
   "source": [
    "options = {\"thermal\": \"x-lumped\"}\n",
    "model = pybamm.lithium_ion.DFN(options)"
   ]
  },
  {
   "cell_type": "markdown",
   "metadata": {},
   "source": [
    "### \"lumped\" option\n",
    "The behaviour of the \"lumped\" option changes depending on the \"cell geometry\" option. By default the \"lumped\" option sets the \"cell geometry\" option \"arbitrary\". This option allows a 1D electrochmical model to be solved, coupled to a lumped thermal model that can be used to model any aribitrary geometry. The user may specify the total heat transfer coefficient $h$, surface area for cooling $A$, and cell volume $V$. The relevant parameters are:  \n",
    "\n",
    "\"Total heat transfer coefficient [W.m-2.K-1]\"  \n",
    "\"Cell cooling surface area [m2]\"  \n",
    "\"Cell volume [m3]\"\n",
    "\n",
    "which correspond directly to the parameters $h$, $A$ and $V$ in the governing equation.\n",
    "\n",
    "However, if the \"cell geometry\" is set to \"pouch\" the heat transfer coefficient, cell cooling surface are and cell volume are automatically computed to correspond to a pouch. In this instance the \"lumped\" is equivalent to the \"x-lumped\" option.\n",
    "\n",
    "The lumped thermal option with an arbitrary geometry can be selected as follows"
   ]
  },
  {
   "cell_type": "code",
   "execution_count": 3,
   "metadata": {},
   "outputs": [],
   "source": [
    "# lumped with no geometry option defaults to an arbitrary geometry\n",
    "options = {\"thermal\": \"lumped\"}\n",
    "model = pybamm.lithium_ion.DFN(options)\n",
    "\n",
    "# OR \n",
    "\n",
    "# lumped with arbitrary geometry specified \n",
    "options = {\"cell geometry\": \"arbitrary\", \"thermal\": \"lumped\"}\n",
    "model = pybamm.lithium_ion.DFN(options)"
   ]
  },
  {
   "cell_type": "markdown",
   "metadata": {},
   "source": [
    "The lumped thermal option with a pouch cell geometry can be selected as follows"
   ]
  },
  {
   "cell_type": "code",
   "execution_count": 4,
   "metadata": {},
   "outputs": [],
   "source": [
    "# lumped with pouch cell geometry (equivalent to choosing \"x-lumped\" thermal option)\n",
    "options = {\"cell geometry\": \"pouch\", \"thermal\": \"lumped\"}\n",
    "model = pybamm.lithium_ion.DFN(options)"
   ]
  },
  {
   "cell_type": "markdown",
   "metadata": {},
   "source": [
    "## 1D (through-cell) model\n",
    "\n",
    "The 1D model solves for $T(x,t)$, capturing variations through the thickness of the cell, but ignoring variations in the other dimensions. The temperature is found as the solution of a partial differential equation, given here in dimensional terms\n",
    "\n",
    "$$\\rho_k c_{p,k} \\frac{\\partial T}{\\partial t} = \\lambda_k \\nabla^2 T + Q(x,t)$$\n",
    "\n",
    "with boundary conditions \n",
    "\n",
    "$$ -\\lambda_{cn} \\frac{\\partial T}{\\partial x}\\bigg|_{x=0} = h_{cn}(T_{\\infty} - T) \\quad -\\lambda_{cp} \\frac{\\partial T}{\\partial x}\\bigg|_{x=1} = h_{cp}(T-T_{\\infty}),$$\n",
    "\n",
    "and initial condition\n",
    "\n",
    "$$ T\\big|_{t=0} = T_0.$$\n",
    "\n",
    "Here $\\lambda_k$ is the thermal conductivity of component $k$, and the heat transfer coefficients $h_{cn}$ and $h_{cp}$ correspond to heat transfer at the large surface of the pouch on the side of the negative current collector, heat transfer at the large surface of the pouch on the side of the positive current collector, respectively. The heat source term $Q$ is as described in the section on lumped models. Note: the 1D model neglects any cooling from the tabs or edges of the cell -- it assumes a pouch cell geometry and _only_ accounts for cooling from the two large surfaces of the pouch. \n",
    "\n",
    "The 1D model is termed \"x-full\" (since it fully accounts for variation in the x direction) and can be selected as follows"
   ]
  },
  {
   "cell_type": "code",
   "execution_count": 5,
   "metadata": {},
   "outputs": [],
   "source": [
    "options = {\"thermal\": \"x-full\"}\n",
    "model = pybamm.lithium_ion.DFN(options)"
   ]
  },
  {
   "cell_type": "markdown",
   "metadata": {},
   "source": [
    "# Pouch cell models\n",
    "\n",
    "The pouch cell thermal models ignore any variation in temperature through the thickness of the cell (x direction), and solve for $T(y,z,t)$. The temperature is found as the solution of a partial differential equation, given here in dimensional terms,\n",
    "\n",
    "$$\\rho_{eff} \\frac{\\partial T}{\\partial t} = \\lambda_{eff} \\nabla_\\perp^2T + \\bar{Q} - \\frac{(h_{cn}+h_{cp})A}{V}(T-T_{\\infty}),$$\n",
    "\n",
    "along with boundary conditions\n",
    "\n",
    "$$ -\\lambda_{eff} \\nabla_\\perp T \\cdot \\boldsymbol{n} = \\frac{L_{cn}h_{cn} + (L_n+L_s+L_p+L_{cp})h_{edge}}{L_{cn}+L_n+L_s+L_p+L_{cp}}(T-T_\\infty),$$\n",
    "at the negative tab,\n",
    "$$ -\\lambda_{eff} \\nabla_\\perp T \\cdot \\boldsymbol{n} = \\frac{(L_{cn}+L_n+L_s+L_p)h_{edge}+L_{cp}h_{cp}}{L_{cn}+L_n+L_s+L_p+L_{cp}}(T-T_\\infty),$$  \n",
    "at the positive tab, and\n",
    "$$ -\\lambda_{eff} \\nabla_\\perp T \\cdot \\boldsymbol{n} = h_{edge}(T-T_\\infty),$$  \n",
    "elsewhere. Again, an initial temperature $T_0$ must be prescribed.\n",
    "\n",
    "Here the heat source term is averaged in the x direction so that $\\bar{Q}=\\bar{Q}(y,z)$. The parameter $\\lambda_{eff}$ is the effective thermal conductivity, computed as \n",
    "\n",
    "$$ \\lambda_{eff} = \\frac{\\sum_k \\lambda_k L_k}{\\sum_k L_k}.$$\n",
    "\n",
    "The heat transfer coefficients $h_{cn}$, $h_{cp}$ and $h_{egde}$ correspond to heat transfer at the large surface of the pouch on the side of the negative current collector, heat transfer at the large surface of the pouch on the side of the positive current collector, and  heat transfer at the remaining, respectively.\n",
    "\n",
    "As with the \"x-lumped\" option, the relevant heat transfer parameters are:  \n",
    "\"Negative current collector surface heat transfer coefficient [W.m-2.K-1]\"  \n",
    "\"Positive current collector surface heat transfer coefficient [W.m-2.K-1]\"  \n",
    "\"Negative tab heat transfer coefficient [W.m-2.K-1]\"  \n",
    "\"Positive tab heat transfer coefficient [W.m-2.K-1]\"  \n",
    "\"Edge heat transfer coefficient [W.m-2.K-1]\"  "
   ]
  },
  {
   "cell_type": "markdown",
   "metadata": {},
   "source": [
    "# Model comparison"
   ]
  },
  {
   "cell_type": "markdown",
   "metadata": {},
   "source": [
    "Here we compare the \"lumped\" thermal model for a pouch cell geometry and an arbitrary geometry. We first set up our models, passing the relevant options"
   ]
  },
  {
   "cell_type": "code",
   "execution_count": 6,
   "metadata": {},
   "outputs": [],
   "source": [
    "pouch_model = pybamm.lithium_ion.DFN(\n",
    "    options={\"cell geometry\": \"pouch\", \"thermal\": \"lumped\"}\n",
    ")\n",
    "arbitrary_model = pybamm.lithium_ion.DFN(\n",
    "    options={\"cell geometry\": \"arbitrary\", \"thermal\": \"lumped\"}\n",
    ")"
   ]
  },
  {
   "cell_type": "markdown",
   "metadata": {},
   "source": [
    "We then pick our parameter set"
   ]
  },
  {
   "cell_type": "code",
   "execution_count": 7,
   "metadata": {},
   "outputs": [],
   "source": [
    "parameter_values = pybamm.ParameterValues(\"Marquis2019\")"
   ]
  },
  {
   "cell_type": "markdown",
   "metadata": {},
   "source": [
    "and look at the various parameters related to heat transfer"
   ]
  },
  {
   "cell_type": "code",
   "execution_count": 8,
   "metadata": {},
   "outputs": [
    {
     "name": "stdout",
     "output_type": "stream",
     "text": [
      "Negative current collector surface heat transfer coefficient [W.m-2.K-1]: 0.0\n",
      "Positive current collector surface heat transfer coefficient [W.m-2.K-1]: 0.0\n",
      "Negative tab heat transfer coefficient [W.m-2.K-1]: 10.0\n",
      "Positive tab heat transfer coefficient [W.m-2.K-1]: 10.0\n",
      "Edge heat transfer coefficient [W.m-2.K-1]: 0.3\n",
      "Total heat transfer coefficient [W.m-2.K-1]: 10.0\n"
     ]
    }
   ],
   "source": [
    "params = [\n",
    "    \"Negative current collector surface heat transfer coefficient [W.m-2.K-1]\",  \n",
    "    \"Positive current collector surface heat transfer coefficient [W.m-2.K-1]\",  \n",
    "    \"Negative tab heat transfer coefficient [W.m-2.K-1]\",  \n",
    "    \"Positive tab heat transfer coefficient [W.m-2.K-1]\",  \n",
    "    \"Edge heat transfer coefficient [W.m-2.K-1]\",\n",
    "    \"Total heat transfer coefficient [W.m-2.K-1]\",\n",
    "]\n",
    "\n",
    "for param in params:\n",
    "    print(param + \": {}\".format(parameter_values[param]))"
   ]
  },
  {
   "cell_type": "markdown",
   "metadata": {},
   "source": [
    "We see that the default parameters used for the pouch cell geometry assume that the large surfaces of the pouch are insulated (no heat transfer) and that most of the cooling is via the tabs.\n",
    "\n",
    "We can also look at the parameters related to the geometry of the pouch"
   ]
  },
  {
   "cell_type": "code",
   "execution_count": 9,
   "metadata": {},
   "outputs": [
    {
     "name": "stdout",
     "output_type": "stream",
     "text": [
      "Surface area [m2]: 0.056907200000000005\n",
      "Volume [m3]: 7.798725e-06\n"
     ]
    }
   ],
   "source": [
    "L_cn = parameter_values[\"Negative current collector thickness [m]\"]\n",
    "L_n = parameter_values[\"Negative electrode thickness [m]\"]\n",
    "L_s = parameter_values[\"Separator thickness [m]\"]\n",
    "L_p = parameter_values[\"Positive electrode thickness [m]\"]\n",
    "L_cp = parameter_values[\"Positive current collector thickness [m]\"]\n",
    "L_y = parameter_values[\"Electrode width [m]\"]\n",
    "L_z = parameter_values[\"Electrode height [m]\"]\n",
    "\n",
    "# total thickness\n",
    "L = L_cn + L_n + L_s + L_p + L_cp\n",
    "\n",
    "# compute surface area\n",
    "A = 2 * (L_y * L_z + L * L_y + L * L_z)\n",
    "print(\"Surface area [m2]: {}\".format(A))\n",
    "\n",
    "# compute volume \n",
    "V = L * L_y *L_z\n",
    "print(\"Volume [m3]: {}\".format(V))"
   ]
  },
  {
   "cell_type": "markdown",
   "metadata": {},
   "source": [
    "and the parameters related to the surface are for cooling and cell volume for the arbitrary geometry "
   ]
  },
  {
   "cell_type": "code",
   "execution_count": 10,
   "metadata": {},
   "outputs": [
    {
     "name": "stdout",
     "output_type": "stream",
     "text": [
      "Cell cooling surface area [m2]: 0.0569\n",
      "Cell volume [m3]: 7.8e-06\n"
     ]
    }
   ],
   "source": [
    "params = [\"Cell cooling surface area [m2]\", \"Cell volume [m3]\"]\n",
    "\n",
    "for param in params:\n",
    "    print(param + \": {}\".format(parameter_values[param]))"
   ]
  },
  {
   "cell_type": "markdown",
   "metadata": {},
   "source": [
    "We see that both models assume the same cell volume, and the arbitrary model assumes that cooling occurs uniformly from all surfaces of the pouch.\n",
    "\n",
    "Let's run simulations with both options and compare the results. For demonstration purposes we'll increase the current to amplify the thermal effects"
   ]
  },
  {
   "cell_type": "code",
   "execution_count": 11,
   "metadata": {},
   "outputs": [
    {
     "data": {
      "application/vnd.jupyter.widget-view+json": {
       "model_id": "ee873b57af934694abc47b15f91f7d87",
       "version_major": 2,
       "version_minor": 0
      },
      "text/plain": [
       "interactive(children=(FloatSlider(value=0.0, description='t', max=1000.0, step=10.0), Output()), _dom_classes=…"
      ]
     },
     "metadata": {},
     "output_type": "display_data"
    },
    {
     "data": {
      "text/plain": [
       "<pybamm.plotting.quick_plot.QuickPlot at 0x7faad906aa00>"
      ]
     },
     "execution_count": 11,
     "metadata": {},
     "output_type": "execute_result"
    }
   ],
   "source": [
    "# update current to correspond to a C-rate of 3 (i.e. 3 times the nominal cell capacity)\n",
    "parameter_values[\"Current function [A]\"] = 3 * parameter_values[\"Nominal cell capacity [A.h]\"]\n",
    "\n",
    "# pick solver \n",
    "solver = pybamm.CasadiSolver(mode=\"fast\", atol=1e-3)\n",
    "\n",
    "# create simulations in a list\n",
    "sims = [\n",
    "    pybamm.Simulation(pouch_model, parameter_values=parameter_values, solver=solver),\n",
    "    pybamm.Simulation(arbitrary_model, parameter_values=parameter_values, solver=solver)\n",
    "]\n",
    "\n",
    "# loop over the list to solve\n",
    "for sim in sims:\n",
    "    sim.solve([0, 1000])\n",
    "    \n",
    "# plot the results\n",
    "pybamm.dynamic_plot(\n",
    "    sims, \n",
    "    [\n",
    "        \"Volume-averaged cell temperature [K]\", \n",
    "        \"Volume-averaged total heating [W.m-3]\", \n",
    "        \"Current [A]\", \n",
    "        \"Terminal voltage [V]\"\n",
    "    ],\n",
    "    labels=[\"pouch\", \"arbitrary\"],\n",
    ")    "
   ]
  },
  {
   "cell_type": "markdown",
   "metadata": {},
   "source": [
    "We see that the lumped model with an arbitrary geometry is cooled much more (it is cooled uniformly from all surfaces, compared to the pouch that is only cooled via the tabs and outside edges), which results in the temperature barely changing throughout the simulation. In comparison, the model with the pouch cell geometry is only cooled from a small portion of the overall cell surface, leading to an increase in temperature of around 20 degrees."
   ]
  },
  {
   "cell_type": "markdown",
   "metadata": {},
   "source": [
    "## References\n",
    "\n",
    "The relevant papers for this notebook are:"
   ]
  },
  {
   "cell_type": "code",
   "execution_count": 12,
   "metadata": {},
   "outputs": [
    {
     "name": "stdout",
     "output_type": "stream",
     "text": [
      "[1] Joel A. E. Andersson, Joris Gillis, Greg Horn, James B. Rawlings, and Moritz Diehl. CasADi – A software framework for nonlinear optimization and optimal control. Mathematical Programming Computation, 11(1):1–36, 2019. doi:10.1007/s12532-018-0139-4.\n",
      "[2] Marc Doyle, Thomas F. Fuller, and John Newman. Modeling of galvanostatic charge and discharge of the lithium/polymer/insertion cell. Journal of the Electrochemical society, 140(6):1526–1533, 1993. doi:10.1149/1.2221597.\n",
      "[3] Charles R. Harris, K. Jarrod Millman, Stéfan J. van der Walt, Ralf Gommers, Pauli Virtanen, David Cournapeau, Eric Wieser, Julian Taylor, Sebastian Berg, Nathaniel J. Smith, and others. Array programming with NumPy. Nature, 585(7825):357–362, 2020. doi:10.1038/s41586-020-2649-2.\n",
      "[4] Scott G. Marquis, Valentin Sulzer, Robert Timms, Colin P. Please, and S. Jon Chapman. An asymptotic derivation of a single particle model with electrolyte. Journal of The Electrochemical Society, 166(15):A3693–A3706, 2019. doi:10.1149/2.0341915jes.\n",
      "[5] Valentin Sulzer, Scott G. Marquis, Robert Timms, Martin Robinson, and S. Jon Chapman. Python Battery Mathematical Modelling (PyBaMM). Journal of Open Research Software, 9(1):14, 2021. doi:10.5334/jors.309.\n",
      "[6] Robert Timms, Scott G Marquis, Valentin Sulzer, Colin P. Please, and S Jonathan Chapman. Asymptotic Reduction of a Lithium-ion Pouch Cell Model. SIAM Journal on Applied Mathematics, 81(3):765–788, 2021. doi:10.1137/20M1336898.\n",
      "\n"
     ]
    }
   ],
   "source": [
    "pybamm.print_citations()"
   ]
  }
 ],
 "metadata": {
  "kernelspec": {
   "display_name": "Python 3 (ipykernel)",
   "language": "python",
   "name": "python3"
  },
  "language_info": {
   "codemirror_mode": {
    "name": "ipython",
    "version": 3
   },
   "file_extension": ".py",
   "mimetype": "text/x-python",
   "name": "python",
   "nbconvert_exporter": "python",
   "pygments_lexer": "ipython3",
   "version": "3.9.0"
  },
  "toc": {
   "base_numbering": 1,
   "nav_menu": {},
   "number_sections": true,
   "sideBar": true,
   "skip_h1_title": false,
   "title_cell": "Table of Contents",
   "title_sidebar": "Contents",
   "toc_cell": false,
   "toc_position": {},
   "toc_section_display": true,
   "toc_window_display": true
  }
 },
 "nbformat": 4,
 "nbformat_minor": 4
}
