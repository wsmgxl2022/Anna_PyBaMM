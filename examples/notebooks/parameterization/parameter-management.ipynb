{
 "cells": [
  {
   "cell_type": "markdown",
   "metadata": {},
   "source": [
    "# Parameter management\n",
    "\n",
    "PyBamm comes with a set of pre-defined parameters for common chemistries. These files are located inside your PyBaMM installation directory, typically something like\n",
    "```\n",
    "../venv/lib/pythonX.Y/site-packages/pybamm/input/parameters\n",
    "```"
   ]
  },
  {
   "cell_type": "markdown",
   "metadata": {},
   "source": [
    "The `input/parameters` directory is organised as follows:\n",
    "```\n",
    "input/parameters\n",
    "  lithium_ion/ # chemistry\n",
    "    negative_electrodes/ # Component\n",
    "      graphite_Chen2020/ # parameter set\n",
    "        parameters.csv\n",
    "\t    graphite_LGM50_diffusivity_Chen2020.py\n",
    "        ...\n",
    "      graphite_mcmb2528_Marquis2019/\n",
    "      graphite_Ecker2015/\n",
    "      ...\n",
    "    positive_electrodes/\n",
    "    cells/\n",
    "    electrolytes/\n",
    "    seis/\n",
    "    separators/\n",
    "    experiments/\n",
    "  lead_acid/\n",
    "    ...\n",
    "```"
   ]
  },
  {
   "cell_type": "markdown",
   "metadata": {},
   "source": [
    "When setting parameter values using `pybamm.ParameterValues` and a filename, the file is searched in several locations, described by\n",
    "the variable `pybamm.PARAMETER_PATH`.\n",
    "The default is "
   ]
  },
  {
   "cell_type": "code",
   "execution_count": 1,
   "metadata": {},
   "outputs": [
    {
     "name": "stdout",
     "output_type": "stream",
     "text": [
      "Note: you may need to restart the kernel to use updated packages.\n"
     ]
    },
    {
     "data": {
      "text/plain": [
       "['/home/priyanshu/work/PyBaMM',\n",
       " '/home/priyanshu/work/notebooks',\n",
       " '/home/priyanshu/work/PyBaMM/pybamm/input/parameters']"
      ]
     },
     "execution_count": 1,
     "metadata": {},
     "output_type": "execute_result"
    }
   ],
   "source": [
    "%pip install pybamm -q    # install PyBaMM if it is not installed\n",
    "import pybamm\n",
    "pybamm.PARAMETER_PATH"
   ]
  },
  {
   "cell_type": "markdown",
   "metadata": {},
   "source": [
    "which means that parameter files will first be searched in the current directory, and then the `input/parameters` directory within the \n",
    "PyBaMM installation directory."
   ]
  },
  {
   "cell_type": "markdown",
   "metadata": {},
   "source": [
    "## Editing the default parameters\n",
    "It is often much easier to define new parameters by editing exiting ones.\n",
    "\n",
    "We recommend not to alter the default parameters provided with the PyBaMM installation. Instead, you can pull all parameter set for\n",
    "a given chemistry into the current directory:"
   ]
  },
  {
   "cell_type": "code",
   "execution_count": 2,
   "metadata": {
    "scrolled": true
   },
   "outputs": [
    {
     "name": "stdout",
     "output_type": "stream",
     "text": [
      "Directory lithium_ion does not exist.\n"
     ]
    }
   ],
   "source": [
    "%%bash\n",
    "if [[ ! -d \"lithium_ion\" ]]; then\n",
    "echo \"Directory lithium_ion does not exist.\"\n",
    "fi"
   ]
  },
  {
   "cell_type": "code",
   "execution_count": 3,
   "metadata": {},
   "outputs": [],
   "source": [
    "%%bash\n",
    "pybamm_edit_parameter lithium_ion"
   ]
  },
  {
   "cell_type": "markdown",
   "metadata": {},
   "source": [
    "The above commands will create a `lithium_ion` directory in the current directory, populated with copies of the default parameters, for editing:"
   ]
  },
  {
   "cell_type": "code",
   "execution_count": 4,
   "metadata": {},
   "outputs": [
    {
     "name": "stdout",
     "output_type": "stream",
     "text": [
      "cells\n",
      "electrolytes\n",
      "experiments\n",
      "lithium_platings\n",
      "negative_electrodes\n",
      "positive_electrodes\n",
      "seis\n",
      "separators\n"
     ]
    }
   ],
   "source": [
    "%%bash\n",
    "ls lithium_ion"
   ]
  },
  {
   "cell_type": "markdown",
   "metadata": {},
   "source": [
    "As an example, let's create a new parameter file for the `cell` component, for the `lithium_ion` chemistry. We first create a new directory `my_new_param_set`:"
   ]
  },
  {
   "cell_type": "code",
   "execution_count": 5,
   "metadata": {},
   "outputs": [],
   "source": [
    "%%bash\n",
    "mkdir lithium_ion/cells/my_new_param_set"
   ]
  },
  {
   "cell_type": "markdown",
   "metadata": {},
   "source": [
    "and write some data in a file `my_new_param_set/param_file.csv`. This is done using python in this simple example, but it can be done using the text editor of your choice to create a new file or edit an existing file."
   ]
  },
  {
   "cell_type": "code",
   "execution_count": 6,
   "metadata": {},
   "outputs": [],
   "source": [
    "# Create example parameter file\n",
    "f = open(\"lithium_ion/cells/my_new_param_set/param_file.csv\", \"w+\")\n",
    "f.write(\n",
    "\"\"\"\n",
    "Name [units],Value\n",
    "a, 4\n",
    "b, 5\n",
    "c, 6\n",
    "\"\"\"\n",
    ")\n",
    "f.close()"
   ]
  },
  {
   "cell_type": "markdown",
   "metadata": {},
   "source": [
    "## Adding a parameter directory\n",
    "You can add a search location by modifying the `PARAMETER_PATH` list.\n",
    "Let's add our new parameter directory to the list, in first position so that it is searched first:"
   ]
  },
  {
   "cell_type": "code",
   "execution_count": 7,
   "metadata": {},
   "outputs": [
    {
     "data": {
      "text/plain": [
       "['lithium_ion/cells/my_new_param_set',\n",
       " '/home/priyanshu/work/PyBaMM',\n",
       " '/home/priyanshu/work/notebooks',\n",
       " '/home/priyanshu/work/PyBaMM/pybamm/input/parameters']"
      ]
     },
     "execution_count": 7,
     "metadata": {},
     "output_type": "execute_result"
    }
   ],
   "source": [
    "pybamm.PARAMETER_PATH.insert(0, \"lithium_ion/cells/my_new_param_set\")\n",
    "pybamm.PARAMETER_PATH"
   ]
  },
  {
   "cell_type": "markdown",
   "metadata": {},
   "source": [
    "Note that relative paths added to `pybamm.PARAMETER_PATH` are considered relative to the current directory. In the above example, if you change directory, the new parameter `my_new_param_set` will not be found."
   ]
  },
  {
   "cell_type": "markdown",
   "metadata": {},
   "source": [
    "Let's check that our new parameter file can be read:"
   ]
  },
  {
   "cell_type": "code",
   "execution_count": 8,
   "metadata": {},
   "outputs": [
    {
     "data": {
      "text/plain": [
       "{'a': 4,\n",
       " 'b': 5,\n",
       " 'c': 6}"
      ]
     },
     "execution_count": 8,
     "metadata": {},
     "output_type": "execute_result"
    }
   ],
   "source": [
    "pybamm.ParameterValues(\"param_file.csv\")"
   ]
  },
  {
   "cell_type": "markdown",
   "metadata": {},
   "source": [
    "## Contributing a new parameter set\n",
    "Once you're happy with a particular parameter set of your creation, you may want to contribute it to the PyBaMM parameter distribution, so\n",
    "that it comes bundled with future release of PyBaMM.\n",
    "This will require you to open a Pull Request on the PyBaMM repository, a process that is described here.\n",
    "\n",
    "A prerequisite is that you add you parameter set to the default parameter directory. You could manually copy the corresponding directory to your installation directory, but the command `pybamm_add_param` can do it for you:"
   ]
  },
  {
   "cell_type": "code",
   "execution_count": 9,
   "metadata": {},
   "outputs": [],
   "source": [
    "%%bash\n",
    "# pybamm_add_parameter <dir> <chemistry> <component>\n",
    "pybamm_add_parameter lithium_ion/cells/my_new_param_set lithium_ion cells"
   ]
  },
  {
   "cell_type": "markdown",
   "metadata": {},
   "source": [
    "Let's remove the `my_new_param_set` from the parameter search path to check that the parameter directory was added correctly to set of default parameters:"
   ]
  },
  {
   "cell_type": "code",
   "execution_count": 10,
   "metadata": {},
   "outputs": [
    {
     "data": {
      "text/plain": [
       "['/home/priyanshu/work/PyBaMM',\n",
       " '/home/priyanshu/work/notebooks',\n",
       " '/home/priyanshu/work/PyBaMM/pybamm/input/parameters']"
      ]
     },
     "execution_count": 10,
     "metadata": {},
     "output_type": "execute_result"
    }
   ],
   "source": [
    "pybamm.PARAMETER_PATH.remove(\"lithium_ion/cells/my_new_param_set\")\n",
    "pybamm.PARAMETER_PATH"
   ]
  },
  {
   "cell_type": "code",
   "execution_count": 11,
   "metadata": {},
   "outputs": [
    {
     "data": {
      "text/plain": [
       "{'a': 4,\n",
       " 'b': 5,\n",
       " 'c': 6}"
      ]
     },
     "execution_count": 11,
     "metadata": {},
     "output_type": "execute_result"
    }
   ],
   "source": [
    "pybamm.ParameterValues(\"lithium_ion/cells/my_new_param_set/param_file.csv\")"
   ]
  },
  {
   "cell_type": "markdown",
   "metadata": {},
   "source": [
    "If you think you made a mistake, you can always delete a specific parameter set using `pybamm_rm_param`.\n"
   ]
  },
  {
   "cell_type": "code",
   "execution_count": 12,
   "metadata": {},
   "outputs": [],
   "source": [
    "%%bash\n",
    "pybamm_rm_parameter -f lithium_ion/cells/my_new_param_set lithium_ion cells"
   ]
  },
  {
   "cell_type": "markdown",
   "metadata": {},
   "source": [
    "Let's remove the local lithium_ion directory to leave this directory as we found it"
   ]
  },
  {
   "cell_type": "code",
   "execution_count": 13,
   "metadata": {},
   "outputs": [],
   "source": [
    "%%bash\n",
    "rm -rf lithium_ion"
   ]
  },
  {
   "cell_type": "markdown",
   "metadata": {},
   "source": [
    "## References\n",
    "\n",
    "The relevant papers for this notebook are:"
   ]
  },
  {
   "cell_type": "code",
   "execution_count": 14,
   "metadata": {},
   "outputs": [
    {
     "name": "stdout",
     "output_type": "stream",
     "text": [
      "[1] Charles R. Harris, K. Jarrod Millman, Stéfan J. van der Walt, Ralf Gommers, Pauli Virtanen, David Cournapeau, Eric Wieser, Julian Taylor, Sebastian Berg, Nathaniel J. Smith, and others. Array programming with NumPy. Nature, 585(7825):357–362, 2020. doi:10.1038/s41586-020-2649-2.\n",
      "[2] Valentin Sulzer, Scott G. Marquis, Robert Timms, Martin Robinson, and S. Jon Chapman. Python Battery Mathematical Modelling (PyBaMM). ECSarXiv. February, 2020. doi:10.1149/osf.io/67ckj.\n",
      "\n"
     ]
    }
   ],
   "source": [
    "pybamm.print_citations()"
   ]
  }
 ],
 "metadata": {
  "kernelspec": {
   "display_name": "Python 3 (ipykernel)",
   "language": "python",
   "name": "python3"
  },
  "language_info": {
   "codemirror_mode": {
    "name": "ipython",
    "version": 3
   },
   "file_extension": ".py",
   "mimetype": "text/x-python",
   "name": "python",
   "nbconvert_exporter": "python",
   "pygments_lexer": "ipython3",
   "version": "3.9.0"
  }
 },
 "nbformat": 4,
 "nbformat_minor": 4
}
