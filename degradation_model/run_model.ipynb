{
 "cells": [
  {
   "attachments": {},
   "cell_type": "markdown",
   "metadata": {},
   "source": [
    "# Run Aging Model"
   ]
  },
  {
   "cell_type": "code",
   "execution_count": null,
   "metadata": {},
   "outputs": [],
   "source": [
    "import pybamm # loads pybamm package\n",
    "import matplotlib.pyplot as plt # package for plotting\n",
    "import numpy as np # for arrays\n",
    "import pandas as pd # for structure use .csv for importing and exporting\n",
    "import math # log, sin, exp\n",
    "from scipy.integrate import solve_ivp # integration, used in accelerated simulation\n",
    "import pickle # for saving simulations\n",
    "import os, sys # path stuff\n",
    "sys.path.append(os.path.dirname(os.path.dirname(os.path.abspath(\"__file__\"))))\n",
    "from batfuns import *\n",
    "plt.rcParams = set_rc_params(plt.rcParams)\n",
    "\n",
    "eSOH_DIR = \"./data/esoh/\"\n",
    "oCV_DIR = \"./data/ocv/\"\n",
    "cyc_DIR = \"./data/cycling/\"\n",
    "fig_DIR = \"./figures/\"\n",
    "res_DIR = \"./results/\"\n",
    "resistance_DIR = \"./data/resistance/\"\n",
    "%matplotlib widget"
   ]
  },
  {
   "cell_type": "code",
   "execution_count": null,
   "metadata": {},
   "outputs": [],
   "source": [
    "# loading parameter values without aging model parameters, just battery parameters\n",
    "parameter_values = get_parameter_values()\n",
    "# we are defing the model\n",
    "spm = pybamm.lithium_ion.SPM(\n",
    "    {\n",
    "        \"SEI\": \"ec reaction limited\",\n",
    "        \"loss of active material\": \"stress-driven\",\n",
    "        \"lithium plating\": \"irreversible\",\n",
    "        \"stress-induced diffusion\": \"false\",\n",
    "    }\n",
    ")\n",
    "param=spm.param"
   ]
  },
  {
   "cell_type": "markdown",
   "metadata": {},
   "source": [
    "## Need to run the below cell only once to generate and save simulations. The figures can then be produced from saved simulations"
   ]
  },
  {
   "cell_type": "code",
   "execution_count": null,
   "metadata": {},
   "outputs": [],
   "source": [
    "cells = [1,4,7,10,13,16]\n",
    "for cell in cells:\n",
    "    cell_no,dfe,dfe_0,dfo_0,N,N_0 = load_data(cell,eSOH_DIR,oCV_DIR)\n",
    "    Ns = np.insert(N[1:]-1,0,0)\n",
    "    eps_n_data,eps_p_data,c_rate_c,c_rate_d,dis_set,Temp,SOC_0 = init_exp(cell_no,dfe,spm,parameter_values)\n",
    "    print(cell_no)\n",
    "    pybamm.set_logging_level(\"WARNING\")\n",
    "\n",
    "    experiment = pybamm.Experiment(\n",
    "        [\n",
    "            (\"Discharge at \"+c_rate_d+dis_set,\n",
    "            \"Rest for 10 sec\",\n",
    "            \"Charge at \"+c_rate_c+\" until 4.2V\", \n",
    "            \"Hold at 4.2V until C/100\")\n",
    "        ] *N[-1],\n",
    "        termination=\"50% capacity\",\n",
    "    #     cccv_handling=\"ode\",\n",
    "    )\n",
    "    parameter_values = get_parameter_values()\n",
    "    parameter_values.update(\n",
    "        {\n",
    "            \"Negative electrode active material volume fraction\": eps_n_data,\n",
    "            \"Positive electrode active material volume fraction\": eps_p_data,\n",
    "            \"Initial temperature [K]\": 273.15+Temp,\n",
    "            \"Ambient temperature [K]\": 273.15+Temp,\n",
    "            \"Positive electrode LAM constant proportional term [s-1]\": 4.0312e-08,\n",
    "            \"Negative electrode LAM constant proportional term [s-1]\": 1.8157e-07,\n",
    "            \"Positive electrode LAM constant proportional term 2 [s-1]\": -1.4406e-09,\n",
    "            \"Negative electrode LAM constant proportional term 2 [s-1]\": -4.9170e-09,\n",
    "            \"Positive electrode LAM constant exponential term\": 1.0776,\n",
    "            \"Negative electrode LAM constant exponential term\": 1.0776,\n",
    "            \"SEI kinetic rate constant [m.s-1]\":  4.608e-16,\n",
    "            \"EC diffusivity [m2.s-1]\": 4.56607447e-19,#8.30909086e-19,\n",
    "            \"SEI growth activation energy [J.mol-1]\": 1.874e+04,\n",
    "            \"Lithium plating kinetic rate constant [m.s-1]\": 2.3586e-09,\n",
    "            \"Initial inner SEI thickness [m]\": 0e-09,\n",
    "            \"Initial outer SEI thickness [m]\": 5e-09,\n",
    "            \"SEI resistivity [Ohm.m]\": 30000.0,\n",
    "            \"Negative electrode partial molar volume [m3.mol-1]\": 7e-06,\n",
    "            \"Negative electrode LAM min stress [Pa]\": 0,\n",
    "            \"Negative electrode LAM max stress [Pa]\": 0,\n",
    "            \"Positive electrode LAM min stress [Pa]\": 0,\n",
    "            \"Positive electrode LAM max stress [Pa]\": 0,\n",
    "        },\n",
    "        check_already_exists=False,\n",
    "    )\n",
    "    if cell == 13 or cell == 16:\n",
    "        parameter_values.update(\n",
    "            {\n",
    "                \"Negative electrode partial molar volume [m3.mol-1]\":\t0.747*7e-06,\n",
    "            },\n",
    "            check_already_exists=False,\n",
    "        )\n",
    "    # Aging simulations\n",
    "    all_sumvars_dict = cycle_adaptive_simulation_V2(spm, parameter_values, experiment,SOC_0, save_at_cycles=1)\n",
    "    with open(res_DIR+'fast_sim_'+\"cell_\"+cell_no+'_sum_var.pickle', 'wb') as handle:\n",
    "        pickle.dump(all_sumvars_dict, handle, protocol=pickle.HIGHEST_PROTOCOL)\n",
    "    # Resistance simulations\n",
    "    Rs = []\n",
    "    Rs_s = []\n",
    "    for cyc_no in range(len(Ns)):\n",
    "        Rs_t,Rs_s_t = get_Rs(cyc_no,all_sumvars_dict,parameter_values,Ns,spm)\n",
    "        Rs.append(Rs_t)\n",
    "        Rs_s.append(np.round(Rs_s_t,4))\n",
    "    print(Rs)\n",
    "    df = pd.DataFrame({'N': N,'Ah_th':dfe[\"Ah_th\"]-dfe[\"Ah_th\"][0], 'Rs_data': dfe[\"Rs_ave\"],'Rs_sim':Rs,'Rs_s':Rs_s\n",
    "                })\n",
    "    df.to_csv(res_DIR + \"DC_resistance\"+\"_cell_\"+cell_no+\".csv\", index=False)\n",
    "    # Voltage and Expansion simulations\n",
    "    for cyc_no in [0,int((len(N)+1)/2)-1,int((len(N)+1)/2),len(N)-2,len(N)-1]:\n",
    "        t_d,V_d,I_d,Q_d,E_d = load_cycling_data_ch(cell,eSOH_DIR,oCV_DIR,cyc_DIR,cyc_no)\n",
    "        t,I,Q,Vt,Exp,sol,rmse_V,rmse_E,rmse_VQ,rmse_EQ = cyc_comp_ch(cyc_no,all_sumvars_dict,t_d,Q_d,V_d,E_d,parameter_values,spm,Ns,c_rate_c,c_rate_d)\n",
    "        df = pd.DataFrame({'t': t,'I': I, 'Q': Q,'Vt':Vt,'Exp':Exp,\n",
    "                        })\n",
    "        df.to_csv(res_DIR + \"volt_exp_sim_ch_cell_\"+cell_no+\"_cyc_\"+f\"{N[cyc_no]}\"+\".csv\", index=False)\n"
   ]
  }
 ],
 "metadata": {
  "kernelspec": {
   "display_name": "Python 3",
   "language": "python",
   "name": "python3"
  },
  "language_info": {
   "codemirror_mode": {
    "name": "ipython",
    "version": 3
   },
   "file_extension": ".py",
   "mimetype": "text/x-python",
   "name": "python",
   "nbconvert_exporter": "python",
   "pygments_lexer": "ipython3",
   "version": "3.9.7"
  },
  "orig_nbformat": 4,
  "vscode": {
   "interpreter": {
    "hash": "fe6e1a396f7757d05554318f98bb2d7e7d3785df9fdbcce0707f057fad4349a9"
   }
  }
 },
 "nbformat": 4,
 "nbformat_minor": 2
}
