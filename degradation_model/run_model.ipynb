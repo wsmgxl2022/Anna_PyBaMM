{
 "cells": [
  {
   "attachments": {},
   "cell_type": "markdown",
   "metadata": {},
   "source": [
    "# Run Aging Model"
   ]
  },
  {
   "cell_type": "code",
   "execution_count": 1,
   "metadata": {},
   "outputs": [
    {
     "data": {
      "text/plain": [
       "'/home/xinlei/Anna_deg_paper/PyBaMM-deg-model-pub/degradation_model'"
      ]
     },
     "execution_count": 1,
     "metadata": {},
     "output_type": "execute_result"
    }
   ],
   "source": [
    "import pybamm # loads pybamm package\n",
    "import matplotlib.pyplot as plt # package for plotting\n",
    "import numpy as np # for arrays\n",
    "import pandas as pd # for structure use .csv for importing and exporting\n",
    "import math # log, sin, exp\n",
    "from scipy.integrate import solve_ivp # integration, used in accelerated simulation\n",
    "import pickle # for saving simulations\n",
    "import os, sys # path stuff\n",
    "#sys.path.append(os.path.dirname(os.path.dirname(os.path.abspath(\"__file__\"))))\n",
    "from batfuns import *\n",
    "plt.rcParams = set_rc_params(plt.rcParams)\n",
    "\n",
    "import os\n",
    "\n",
    "cwd = os.getcwd()\n",
    "cwd\n",
    "\n"
   ]
  },
  {
   "cell_type": "code",
   "execution_count": 2,
   "metadata": {},
   "outputs": [],
   "source": [
    "eSOH_DIR = \"./data/eSOH/\"\n",
    "oCV_DIR = \"./data/ocv/\"\n",
    "cyc_DIR = \"./data/cycling/\"\n",
    "fig_DIR = \"./figures/\"\n",
    "res_DIR = \"./results/\"\n",
    "resistance_DIR = \"./data/resistance/\"\n",
    "%matplotlib widget"
   ]
  },
  {
   "cell_type": "code",
   "execution_count": 3,
   "metadata": {},
   "outputs": [],
   "source": [
    "# loading parameter values without aging model parameters, just battery parameters\n",
    "parameter_values = get_parameter_values()\n",
    "# we are defing the model\n",
    "spm = pybamm.lithium_ion.SPM(\n",
    "    {\n",
    "        \"SEI\": \"ec reaction limited\",\n",
    "        \"loss of active material\": \"stress-driven\",\n",
    "        \"lithium plating\": \"irreversible\",\n",
    "        \"stress-induced diffusion\": \"false\",\n",
    "    }\n",
    ")\n",
    "param=spm.param"
   ]
  },
  {
   "cell_type": "code",
   "execution_count": 4,
   "metadata": {},
   "outputs": [
    {
     "name": "stdout",
     "output_type": "stream",
     "text": [
      "Trying to read: ./data/eSOH/aging_param_cell_01.csv and ./data/ocv/ocv_data_cell_01.csv\n",
      "Trying to read: ./data/eSOH/aging_param_cell_04.csv and ./data/ocv/ocv_data_cell_04.csv\n",
      "Trying to read: ./data/eSOH/aging_param_cell_07.csv and ./data/ocv/ocv_data_cell_07.csv\n",
      "Trying to read: ./data/eSOH/aging_param_cell_10.csv and ./data/ocv/ocv_data_cell_10.csv\n",
      "Trying to read: ./data/eSOH/aging_param_cell_13.csv and ./data/ocv/ocv_data_cell_13.csv\n",
      "Trying to read: ./data/eSOH/aging_param_cell_16.csv and ./data/ocv/ocv_data_cell_16.csv\n"
     ]
    }
   ],
   "source": [
    "eSOH_DIR = \"./data/eSOH/\"\n",
    "oCV_DIR = \"./data/ocv/\"\n",
    "cells = [1, 4, 7, 10, 13, 16]\n",
    "\n",
    "for cell in cells:\n",
    "    cell_no = f'{cell:02d}'\n",
    "    eSOH_file = eSOH_DIR + \"aging_param_cell_\" + cell_no + \".csv\"\n",
    "    oCV_file = oCV_DIR + \"ocv_data_cell_\" + cell_no + \".csv\"\n",
    "    print(\"Trying to read:\", eSOH_file, \"and\", oCV_file)\n",
    "    cell_no, dfe, dfe_0, dfo_0, N, N_0 = load_data(cell, eSOH_DIR, oCV_DIR)\n",
    "    Ns = np.insert(N[1:] - 1, 0, 0)\n",
    "    eps_n_data, eps_p_data, c_rate_c, c_rate_d, dis_set, Temp, SOC_0 = init_exp(cell_no, dfe, spm, parameter_values)\n"
   ]
  },
  {
   "cell_type": "markdown",
   "metadata": {},
   "source": [
    "## Need to run the below cell only once to generate and save simulations. The figures can then be produced from saved simulations"
   ]
  },
  {
   "cell_type": "code",
   "execution_count": 5,
   "metadata": {},
   "outputs": [
    {
     "name": "stdout",
     "output_type": "stream",
     "text": [
      "01\n"
     ]
    },
    {
     "name": "stderr",
     "output_type": "stream",
     "text": [
      "CasADi - 2024-07-02 00:37:37 WARNING(\"The options 't0', 'tf', 'grid' and 'output_t0' have been deprecated.\n",
      "The same functionality is provided by providing additional input arguments to the 'integrator' function, in particular:\n",
      " * Call integrator(..., t0, tf, options) for a single output time, or\n",
      " * Call integrator(..., t0, grid, options) for multiple grid points.\n",
      "The legacy 'output_t0' option can be emulated by including or excluding 't0' in 'grid'.\n",
      "Backwards compatibility is provided in this release only.\") [.../casadi/core/integrator.cpp:515]\n"
     ]
    },
    {
     "name": "stdout",
     "output_type": "stream",
     "text": [
      "[0.009125610331559232, 0.00942244965511813, 0.010112896871589555, 0.010775100291889607, 0.01156645050219386, 0.012402259707245959, 0.013287546374640559, 0.014228540577963352, 0.015233081678251156, 0.016310996923911747]\n",
      "04\n",
      "[0.009247170613221093, 0.009684135854239016, 0.010205834752663186, 0.010822223833275812, 0.011543758986729156, 0.012384792697566226, 0.01336463507914792, 0.01450959738671559]\n",
      "07\n",
      "[0.009432625665290278, 0.009941448894012779, 0.010577803932409216, 0.011355359585437888, 0.01229250472369801, 0.013416110150464997]\n",
      "10\n",
      "[0.009304066683383915, 0.00977223674812095, 0.010285798179836644, 0.010841034660105966, 0.011439705043863633, 0.0120822041050885, 0.012769016477562675, 0.01350095948779598, 0.014065794506507015, 0.014878963648184475, 0.01574156483066859]\n",
      "13\n",
      "[0.009270341059005326, 0.009739935675242332, 0.01023013500550024, 0.010734850999543376, 0.011256907903333866, 0.011797343301032652, 0.012357069842866055, 0.01293714097321914, 0.01353879011456423, 0.014163450038782673, 0.014812769486038335]\n",
      "16\n",
      "[0.009271381110379551, 0.009572552280847507, 0.009898163989020072, 0.010243655194021655, 0.010610921282440023, 0.011000441615615112, 0.011412317584164756, 0.011846663427468342, 0.012303659059786545, 0.012783557240840186, 0.013286683062210687, 0.013813434009781172, 0.014364282690770527]\n"
     ]
    }
   ],
   "source": [
    "cells = [1,4,7,10,13,16]\n",
    "for cell in cells:\n",
    "    cell_no,dfe,dfe_0,dfo_0,N,N_0 = load_data(cell,eSOH_DIR,oCV_DIR)\n",
    "    Ns = np.insert(N[1:]-1,0,0)\n",
    "    eps_n_data,eps_p_data,c_rate_c,c_rate_d,dis_set,Temp,SOC_0 = init_exp(cell_no,dfe,spm,parameter_values)\n",
    "    print(cell_no)\n",
    "    pybamm.set_logging_level(\"WARNING\")\n",
    "\n",
    "    experiment = pybamm.Experiment(\n",
    "        [\n",
    "            (\"Discharge at \"+c_rate_d+dis_set,\n",
    "            \"Rest for 10 sec\",\n",
    "            \"Charge at \"+c_rate_c+\" until 4.2V\", \n",
    "            \"Hold at 4.2V until C/100\")\n",
    "        ] *N[-1],\n",
    "        termination=\"50% capacity\",\n",
    "    #     cccv_handling=\"ode\",\n",
    "    )\n",
    "    parameter_values = get_parameter_values()\n",
    "    parameter_values.update(\n",
    "        {\n",
    "            \"Negative electrode active material volume fraction\": eps_n_data,\n",
    "            \"Positive electrode active material volume fraction\": eps_p_data,\n",
    "            \"Initial temperature [K]\": 273.15+Temp,\n",
    "            \"Ambient temperature [K]\": 273.15+Temp,\n",
    "            \"Positive electrode LAM constant proportional term [s-1]\": 4.0312e-08,\n",
    "            \"Negative electrode LAM constant proportional term [s-1]\": 1.8157e-07,\n",
    "            \"Positive electrode LAM constant proportional term 2 [s-1]\": -1.4406e-09,\n",
    "            \"Negative electrode LAM constant proportional term 2 [s-1]\": -4.9170e-09,\n",
    "            \"Positive electrode LAM constant exponential term\": 1.0776,\n",
    "            \"Negative electrode LAM constant exponential term\": 1.0776,\n",
    "            \"SEI kinetic rate constant [m.s-1]\":  4.608e-16,\n",
    "            \"EC diffusivity [m2.s-1]\": 4.56607447e-19,#8.30909086e-19,\n",
    "            \"SEI growth activation energy [J.mol-1]\": 1.874e+04,\n",
    "            \"Lithium plating kinetic rate constant [m.s-1]\": 2.3586e-09,\n",
    "            \"Initial inner SEI thickness [m]\": 0e-09,\n",
    "            \"Initial outer SEI thickness [m]\": 5e-09,\n",
    "            \"SEI resistivity [Ohm.m]\": 30000.0,\n",
    "            \"Negative electrode partial molar volume [m3.mol-1]\": 7e-06,\n",
    "            \"Negative electrode LAM min stress [Pa]\": 0,\n",
    "            \"Negative electrode LAM max stress [Pa]\": 0,\n",
    "            \"Positive electrode LAM min stress [Pa]\": 0,\n",
    "            \"Positive electrode LAM max stress [Pa]\": 0,\n",
    "        },\n",
    "        check_already_exists=False,\n",
    "    )\n",
    "    if cell == 13 or cell == 16:\n",
    "        parameter_values.update(\n",
    "            {\n",
    "                \"Negative electrode partial molar volume [m3.mol-1]\":\t0.747*7e-06,\n",
    "            },\n",
    "            check_already_exists=False,\n",
    "        )\n",
    "    # Aging simulations\n",
    "    all_sumvars_dict = cycle_adaptive_simulation_V2(spm, parameter_values, experiment,SOC_0, save_at_cycles=1)\n",
    "    with open(res_DIR+'fast_sim_'+\"cell_\"+cell_no+'_sum_var.pickle', 'wb') as handle:\n",
    "        pickle.dump(all_sumvars_dict, handle, protocol=pickle.HIGHEST_PROTOCOL)\n",
    "    # Resistance simulations\n",
    "    Rs = []\n",
    "    Rs_s = []\n",
    "    for cyc_no in range(len(Ns)):\n",
    "        Rs_t,Rs_s_t = get_Rs(cyc_no,all_sumvars_dict,parameter_values,Ns,spm)\n",
    "        Rs.append(Rs_t)\n",
    "        Rs_s.append(np.round(Rs_s_t,4))\n",
    "    print(Rs)\n",
    "    df = pd.DataFrame({'N': N,'Ah_th':dfe[\"Ah_th\"]-dfe[\"Ah_th\"][0], 'Rs_data': dfe[\"Rs_ave\"],'Rs_sim':Rs,'Rs_s':Rs_s\n",
    "                })\n",
    "    df.to_csv(res_DIR + \"DC_resistance\"+\"_cell_\"+cell_no+\".csv\", index=False)\n",
    "    # Voltage and Expansion simulations\n",
    "    for cyc_no in [0,int((len(N)+1)/2)-1,int((len(N)+1)/2),len(N)-2,len(N)-1]:\n",
    "        t_d,V_d,I_d,Q_d,E_d = load_cycling_data_ch(cell,eSOH_DIR,oCV_DIR,cyc_DIR,cyc_no)\n",
    "        t,I,Q,Vt,Exp,sol,rmse_V,rmse_E,rmse_VQ,rmse_EQ = cyc_comp_ch(cyc_no,all_sumvars_dict,t_d,Q_d,V_d,E_d,parameter_values,spm,Ns,c_rate_c,c_rate_d)\n",
    "        df = pd.DataFrame({'t': t,'I': I, 'Q': Q,'Vt':Vt,'Exp':Exp,\n",
    "                        })\n",
    "        df.to_csv(res_DIR + \"volt_exp_sim_ch_cell_\"+cell_no+\"_cyc_\"+f\"{N[cyc_no]}\"+\".csv\", index=False)\n"
   ]
  }
 ],
 "metadata": {
  "kernelspec": {
   "display_name": "Python 3",
   "language": "python",
   "name": "python3"
  },
  "language_info": {
   "codemirror_mode": {
    "name": "ipython",
    "version": 3
   },
   "file_extension": ".py",
   "mimetype": "text/x-python",
   "name": "python",
   "nbconvert_exporter": "python",
   "pygments_lexer": "ipython3",
   "version": "3.9.5"
  },
  "orig_nbformat": 4,
  "vscode": {
   "interpreter": {
    "hash": "fe6e1a396f7757d05554318f98bb2d7e7d3785df9fdbcce0707f057fad4349a9"
   }
  }
 },
 "nbformat": 4,
 "nbformat_minor": 2
}
